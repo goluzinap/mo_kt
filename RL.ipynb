{
  "cells": [
    {
      "cell_type": "markdown",
      "metadata": {
        "id": "m2s4kN_QPQVe"
      },
      "source": [
        "# Введение в обучение с подкреплением  (Reinforcement Learning)\n",
        "\n",
        "\n",
        "<center>\n",
        "<img src=\"https://raw.githubusercontent.com/jcformanek/jcformanek.github.io/master/docs/assets/images/rl_in_space.png\" width=\"100%\" />\n",
        "</center>\n",
        "\n",
        "\n",
        "\n",
        "**Введение**\n",
        "\n",
        "На этом семинаре мы изучим обучение с подкреплением - тип машинного обучения без учителя, где агент учится выбирать действия, которые приводят к максимальному вознаграждению в долгосрочной перспективе. Обучение с подкреплением используется в широком спектре сложных задач, в том числе - в видеоиграх, например, [Atari](https://www.deepmind.com/blog/agent57-outperforming-the-human-atari-benchmark), [StarCraft II](https://www.deepmind.com/blog/alphastar-mastering-the-real-time-strategy-game-starcraft-ii) и [Dota II](https://openai.com/five/).\n",
        "\n",
        "На семинаре изучим классическую среду - [CartPole](https://www.gymlibrary.ml/environments/classic_control/cart_pole/), где агент должен научиться балансировать шестом на тележке (см лекцию), используя несколько различных подходов RL. По пути вы познакомитесь с некоторыми из самых важных концепций и терминологии в RL.\n",
        "\n",
        "**Темы:**\n",
        "* Reinforcement Learning (RL, Обучение с подкреплением)\n",
        "* Random Policy Search (Случайный поиск политики)\n",
        "* Policy Gradient (Градиент политики)\n",
        "* Q-Learning\n",
        "\n",
        "\n",
        "**Что надо сделать для лучшего понимания:**\n",
        "\n",
        "* почитать про библиотеку [JAX](https://github.com/google/jax).\n",
        "* вспомнить нейроки.\n",
        "\n"
      ]
    },
    {
      "cell_type": "markdown",
      "metadata": {
        "id": "6EqhIg1odqg0"
      },
      "source": [
        "### Настраиваем среду"
      ]
    },
    {
      "cell_type": "code",
      "execution_count": null,
      "metadata": {
        "id": "4boGA9rYdt9l"
      },
      "outputs": [],
      "source": [
        "# @title Установка необходимых пакетов (надо просто запустить!) { display-mode: \"form\" }\n",
        "# @markdown Может занять несколько минут\n",
        "%%capture\n",
        "!pip install jaxlib\n",
        "!pip install jax\n",
        "!pip install git+https://github.com/deepmind/dm-haiku\n",
        "!pip install gym==0.25\n",
        "!pip install gym[box2d]\n",
        "!pip install optax\n",
        "!pip install matplotlib\n",
        "!pip install chex\n",
        "!pip install gym[classic_control]"
      ]
    },
    {
      "cell_type": "code",
      "execution_count": null,
      "metadata": {
        "id": "gwbqggmcRjMy"
      },
      "outputs": [],
      "source": [
        "# @title Импорт необходимых пакетов (просто запустите ячейку) { display-mode: \"form\" }\n",
        "%%capture\n",
        "import copy\n",
        "from shutil import rmtree # deleting directories\n",
        "import random\n",
        "import collections # useful data structures\n",
        "import numpy as np\n",
        "import gym # reinforcement learning environments\n",
        "from gym.wrappers import RecordVideo\n",
        "import jax\n",
        "import jax.numpy as jnp # jax numpy\n",
        "import haiku as hk # jax neural network library\n",
        "import optax # jax optimizer library\n",
        "import matplotlib.pyplot as plt # graph plotting library\n",
        "from IPython.display import HTML\n",
        "from base64 import b64encode\n",
        "import chex\n",
        "\n",
        "# Hide warnings\n",
        "import warnings\n",
        "warnings.filterwarnings('ignore')"
      ]
    },
    {
      "cell_type": "markdown",
      "metadata": {
        "id": "-ZUp8i37dFbU"
      },
      "source": [
        "## 1. Ключевые концепции обучения с подкреплением\n",
        "\n",
        "Обучение с подкреплением (RL) является подразделом машинного обучения (ML). В отличие от таких областей, как контролируемое обучение, где мы даем примеры ожидаемого поведения нашим моделям, RL фокусируется на *целеориентированном* обучении из взаимодействий методом проб и ошибок. Алгоритмы RL изучают, что делать (т. е. какие оптимальные действия предпринять) в среде, чтобы максимизировать некий сигнал вознаграждения. В таких условиях, как видеоигра, сигналом вознаграждения может быть счет игры, т. е. алгоритмы RL будут пытаться максимизировать счет в игре, выбирая лучшие действия.\n",
        "\n",
        "<center>\n",
        "<img src=\"https://pettingzoo.farama.org/_images/environments-demo.gif\" width=\"40%\" />\n",
        "</center>\n",
        "\n",
        "[*Image Source*](https://pettingzoo.farama.org/)\n",
        "\n",
        "Другими словами, в RL у нас есть **агент**, который воспринимает **наблюдение** $o_t$ текущего состояния $s_t$ **окружающей среды** и должен выбрать **действие** $a_t$ для выполнения.\n",
        "\n",
        "Затем окружающая среда переходит в новое состояние $s_{t+1}$ в ответ на действие агента, а также дает агенту скалярное вознаграждение $r_t$, чтобы указать, насколько хорошим или плохим было выбранное действие, учитывая состояние окружающей среды.\n",
        "\n",
        "Целью в RL является максимизация агентом суммы вознаграждения, которое он получает от окружающей среды с течением времени. Нижний индекс $t$ используется для указания номера временного шага, т. е. $s_0$ - это состояние окружающей среды на начальном временном шаге, а $a_{99}$ - это действие агента на $99-м$ временном шаге."
      ]
    },
    {
      "cell_type": "markdown",
      "metadata": {
        "id": "Ghgy69hFRjMz"
      },
      "source": [
        "### Среда - OpenAI Gym\n",
        "Как упоминалось выше, среда получает от агента действие $a_t$ и возвращает вознаграждение $r_t$ и наблюдение $o_t$.\n",
        "\n",
        "OpenAI разработал пакет для Python под названием **Gym**, который включает реализации популярных сред и простой интерфейс для взаимодействия агента RL. Чтобы использовать поддерживаемую [среду gym](https://www.gymlibrary.ml/), все, что вам нужно сделать, это передать имя среды в функцию  `gym.make(<environment_name>)`.\n",
        "\n",
        "В этом уроке мы будем использовать простую среду под названием **CartPole**. В CartPole задача агента — научиться балансировать на шесте как можно дольше, перемещая тележку *влево* или *вправо*.\n",
        "\n",
        "<img src=\"https://user-images.githubusercontent.com/10854026/32486103-f15f19de-c3a5-11e7-81de-0605df939497.gif\" width=\"50%\" />"
      ]
    },
    {
      "cell_type": "code",
      "execution_count": null,
      "metadata": {
        "id": "WfxzajMYRjMz"
      },
      "outputs": [],
      "source": [
        "# Create the environment\n",
        "env_name = \"CartPole-v0\"\n",
        "env = gym.make(env_name)"
      ]
    },
    {
      "cell_type": "markdown",
      "metadata": {
        "id": "y_BbftaJj3zu"
      },
      "source": [
        "### Состояние (States) и Наблюдение (Observations) - $s_t$ and $o_t$\n",
        "\n",
        "В RL агент воспринимает наблюдение за состоянием среды. В некоторых настройках наблюдение может включать всю информацию, лежащую в основе состояния среды. Такая среда называется **полностью наблюдаемой**. В других настройках агент может получать только частичную информацию о состоянии среды в своем наблюдении. Такая среда называется **частично наблюдаемой**.\n",
        "\n",
        "В оставшейся части этого руководства мы будем предполагать, что среда полностью наблюдаема, и поэтому будем использовать состояние $s_t$ и наблюдение $o_t$ взаимозаменяемо. В Gym мы получаем начальное наблюдение из среды, вызывая функцию `env.reset()`."
      ]
    },
    {
      "cell_type": "code",
      "execution_count": null,
      "metadata": {
        "id": "HdS8nqOgRjM0",
        "colab": {
          "base_uri": "https://localhost:8080/"
        },
        "outputId": "fa8519a9-5061-41bd-e2bc-92ba1a7316a5"
      },
      "outputs": [
        {
          "output_type": "stream",
          "name": "stdout",
          "text": [
            "Initial State:: [ 0.03487907 -0.02426475  0.04652325 -0.03600779]\n",
            "Environment Obs Space Shape: (4,)\n"
          ]
        }
      ],
      "source": [
        "# Reset the environment\n",
        "s_0 = env.reset()\n",
        "print(\"Initial State::\", s_0)\n",
        "\n",
        "# Get environment obs space\n",
        "obs_shape = env.observation_space.shape\n",
        "print(\"Environment Obs Space Shape:\", obs_shape)"
      ]
    },
    {
      "cell_type": "markdown",
      "metadata": {
        "id": "pUNX6mbotABo"
      },
      "source": [
        "В CartPole состояние окружающей среды представлено четырьмя числами: *угловое положение полюса, угловая скорость полюса, положение тележки, скорость тележки*."
      ]
    },
    {
      "cell_type": "markdown",
      "metadata": {
        "id": "hL1Nkgy7nUfn"
      },
      "source": [
        "### Действия (Actions) - $a_t$\n",
        "\n",
        "В RL действия обычно либо **дискретные**, либо **непрерывные**. Непрерывные действия задаются вектором действительных чисел. Дискретные действия задаются целочисленным значением. В средах, где мы можем подсчитать конечный набор действий, мы обычно используем дискретные действия.\n",
        "\n",
        "В CartPole есть только два действия: *влево* и *вправо*. Таким образом, действия могут быть представлены целыми числами $0$ и $1$. В gym мы можем легко получить список возможных действий следующим образом:"
      ]
    },
    {
      "cell_type": "code",
      "execution_count": null,
      "metadata": {
        "id": "uOLZqU_LpIXh",
        "colab": {
          "base_uri": "https://localhost:8080/"
        },
        "outputId": "c37251b2-24a7-4483-cf62-2baed12b35b0"
      },
      "outputs": [
        {
          "output_type": "stream",
          "name": "stdout",
          "text": [
            "Environment action space: Discrete(2)\n",
            "Number of actions: 2\n"
          ]
        }
      ],
      "source": [
        "# Get action space - e.g. discrete or continuous\n",
        "print(f\"Environment action space: {env.action_space}\")\n",
        "\n",
        "# Get num actions\n",
        "num_actions = env.action_space.n\n",
        "print(f\"Number of actions: {num_actions}\")"
      ]
    },
    {
      "cell_type": "markdown",
      "metadata": {
        "id": "tRsflxbDpoPm"
      },
      "source": [
        "### Политика агента (The Agent's Policy) - $\\pi$\n",
        "\n",
        "В RL агент выбирает действия на основе полученных наблюдений. Мы можем представить процесс выбора действия агента как функцию, которая принимает наблюдение в качестве входных данных и возвращает действие в качестве выходных данных. В RL мы обычно называем эту функцию **политикой** агента и обозначаем ее $\\pi(s_t)=a_t$. В RL мы обычно параметризуем нашу политику каким-либо образом, а затем пытаемся узнать оптимальные параметры. Параметризованная политика обычно обозначается $\\pi_\\theta$, где $\\theta$ — это набор параметров.\n",
        "\n",
        "**Упражнение 1:** В качестве упражнения давайте реализуем простую политику, которая принимает набор параметров и наблюдение в качестве входных данных и возвращает действие. Предположим, что наблюдение — это вектор из четырех чисел, как наблюдение CartPole, и что действие должно быть либо $0$, либо $1$. Предположим также, что параметры — это вектор из четырех действительных чисел. Тогда действие должно быть вычислено следующим образом.\n",
        "\n",
        "\n",
        "1. Вычислите [скалярное произведение векторов](https://www.mathsisfun.com/algebra/vectors-dot-product.html) между наблюдением и параметрами.\n",
        "2. Если результат больше нуля, верните действие $1$.\n",
        "3. В противном случае верните действие $0$.\n",
        "\n",
        "В этом упражнении мы постараемся использовать JAX как можно чаще. Поэтому постарайтесь использовать методы JAX для этой задачи. Ниже приведены некоторые полезные методы, которые вы можете использовать. Вам нужно будет завершить код в блоке ниже, заменив `...` правильным кодом.\n",
        "\n",
        "\n",
        "**Полезные методы:**\n",
        "* Вычислите скалярное произведение векторов с помощью `jax.numpy.dot` ([docs](https://jax.readthedocs.io/en/latest/_autosummary/jax.numpy.dot.html)).\n",
        "\n",
        "* Когда вы пытаетесь условно присвоить значение $0$ или $1$ действию на основе результата скалярного произведения, вам следует использовать `jax.lax.select` ([docs](https://jax.readthedocs.io/en/latest/_autosummary/jax.lax.select.html#jax.lax.select)).\n",
        "\n",
        "Метод `jax.lax.select` принимает три аргумента в качестве входных данных. Первый аргумент — это оператор, который будет оцениваться как `True` или `False`.\n",
        "\n",
        "Если оператор равен `True`, то `jax.lax.select` вернет свой второй аргумент.\n",
        "\n",
        "Если оператор имеет значение `False`, `jax.lax.select` вернет свой третий аргумент.\n",
        "\n"
      ]
    },
    {
      "cell_type": "code",
      "execution_count": null,
      "metadata": {
        "id": "KSGCd7XB1z8k"
      },
      "outputs": [],
      "source": [
        "def linear_policy(params, obs):\n",
        "  \"\"\"A simple linear policy\n",
        "\n",
        "  Args:\n",
        "    params: a vector of four real-numbers that give the parameters of the policy\n",
        "    obs: a vector of four real-numbers that give the agent's observation\n",
        "\n",
        "  Returns:\n",
        "    a discrete action given by a 0 or 1\n",
        "  \"\"\"\n",
        "  # YOUR CODE\n",
        "  dot_product_result = jnp.dot(params, obs)\n",
        "\n",
        "  action = jax.lax.select(dot_product_result > 0, 1, 0)\n",
        "  # END YOUR CODE\n",
        "  return action"
      ]
    },
    {
      "cell_type": "code",
      "execution_count": null,
      "metadata": {
        "id": "9EnnBvceb1f3",
        "colab": {
          "base_uri": "https://localhost:8080/"
        },
        "outputId": "9b4e37b7-042e-4291-aa3b-ee8e266c3a8e"
      },
      "outputs": [
        {
          "output_type": "stream",
          "name": "stdout",
          "text": [
            "Your function is correct!\n"
          ]
        }
      ],
      "source": [
        "# @title Проверка упр 1  { display-mode: \"form\" }\n",
        "\n",
        "def check_linear_policy(linear_policy):\n",
        "  fixed_obs = jnp.array([1,1,2,4])\n",
        "\n",
        "  # check case1 - negative dot product.\n",
        "  # weights\n",
        "  params1 = jnp.array([1,1,1,1])\n",
        "  params2 = jnp.array([-1,-1,-1,-1])\n",
        "\n",
        "  hint1 = f\"Неправильный ответ, ваша линейная политика неверна. Действие при \\\n",
        "obs={fixed_obs} и params={params1} должно быть 1\"\n",
        "\n",
        "  hint2 = f\"Неправильный ответ, ваша линейная политика неверна. Действие при \\\n",
        "obs={fixed_obs} и params={params2} должно быть 0\"\n",
        "\n",
        "  hint = None\n",
        "  if linear_policy(params1, fixed_obs) != 1:\n",
        "    hint = hint1\n",
        "  elif linear_policy(params2, fixed_obs) != 0:\n",
        "    hint = hint2\n",
        "\n",
        "  if hint is not None:\n",
        "    print(hint)\n",
        "  else:\n",
        "    print(\"Your function is correct!\")\n",
        "\n",
        "try:\n",
        "  check_linear_policy(linear_policy)\n",
        "except Exception as e:\n",
        "    print(\"An Error Occured: {}\".format(e))"
      ]
    },
    {
      "cell_type": "markdown",
      "metadata": {
        "id": "PkuvT-jf6Ieh"
      },
      "source": [
        "### Функция перехода среды - $P$\n",
        "\n",
        "Теперь, когда у нас есть политика, мы можем передавать действия от агента среде. Затем среда перейдет в новое состояние в ответ на действие агента.\n",
        "\n",
        "В RL мы моделируем этот процесс с помощью **функции перехода состояния** $P$, которая принимает текущее состояние $s_t$ и действие $a_t$ в качестве входных данных и возвращает следующее состояние $s_{t+1}$ в качестве выходных данных:\n",
        "\n",
        "<center>\n",
        "$s_{t+1}=P(s_t, a_t)$\n",
        "</center>\n",
        "\n",
        "В gym мы можем передавать действия среде, вызывая функцию `env.step(<action>)`. Затем функция вернет четыре значения:\n",
        "- **следующее наблюдение**\n",
        "- **награду** за выполненное действие\n",
        "- логический флаг, указывающий, **завершена** игра\n",
        "- некоторую **дополнительную** информацию."
      ]
    },
    {
      "cell_type": "code",
      "execution_count": null,
      "metadata": {
        "id": "hh0j9-Tk7olb",
        "colab": {
          "base_uri": "https://localhost:8080/"
        },
        "outputId": "ce30af54-c13d-487e-a736-f0fe182f8bd0"
      },
      "outputs": [
        {
          "output_type": "stream",
          "name": "stdout",
          "text": [
            "Observation: [0.02096404 0.03078643 0.03080728 0.04745739]\n",
            "Action: 1\n",
            "Next observation: [ 0.02157977  0.22545339  0.03175642 -0.2353486 ]\n",
            "Reward: 1.0\n",
            "Game is done: False\n"
          ]
        }
      ],
      "source": [
        "# Get the initial obs by resetting the env\n",
        "initial_obs = env.reset()\n",
        "\n",
        "# Randomly sample actions from env\n",
        "action = env.action_space.sample()\n",
        "\n",
        "# Step the environment\n",
        "next_obs, reward, done, info = env.step(action)\n",
        "\n",
        "print(\"Observation:\", initial_obs)\n",
        "print(\"Action:\", action)\n",
        "print(\"Next observation:\", next_obs)\n",
        "print(\"Reward:\", reward)\n",
        "print(\"Game is done:\", done)"
      ]
    },
    {
      "cell_type": "markdown",
      "metadata": {
        "id": "bX9iZtu48UYn"
      },
      "source": [
        "### Возврат эпизода - $R_t$\n",
        "\n",
        "В RL мы обычно разбиваем взаимодействие агента с окружающей средой на **эпизоды**. Сумма всех вознаграждений, собранных во время эпизода, - это то, что мы называем **возвратом** эпизода - $R_t$:\n",
        "\n",
        "<center>\n",
        "$R_t=\\sum_{t=0}^Tr_t$,\n",
        "</center>\n",
        "\n",
        "где $r_t$ - это вознаграждение в момент времени $t$, а $T$ - это последний временной шаг. Цель в RL - выбрать действия, которые максимизируют этот ожидаемый будущий возврат $R_t$."
      ]
    },
    {
      "cell_type": "markdown",
      "metadata": {
        "id": "y6KZA1Nq9p47"
      },
      "source": [
        "### Цикл агент-среда\n",
        "Теперь, когда мы знаем, что такое политика, и знаем, как пошагово проходить среду, давайте закроем цикл агент-среда.\n",
        "\n",
        "**Упражнение 2:** Напишите функцию, которая запускает один эпизод CartPole, последовательно выбирая действия и пошагово проходя среду. Вам следует использовать линейную политику, которую мы определили ранее, для выбора действий. Функция должна отслеживать полученное вознаграждение и выводить возврат в конце эпизода.\n",
        "\n",
        "В CartPole агент получает вознаграждение `1` за каждый временной шаг, когда шест все еще стоит вертикально. Если шест падает, игра заканчивается, и агент больше не получает вознаграждения. Игра также заканчивается после `200` временных шагов, поэтому максимальное вознаграждение, которое может получить агент, составляет `200`."
      ]
    },
    {
      "cell_type": "code",
      "execution_count": null,
      "metadata": {
        "id": "Buy0X7mi-gHP"
      },
      "outputs": [],
      "source": [
        "def run_episode(env):\n",
        "  episode_return = 0 # counter to keep track of rewards\n",
        "  done = False # initially set to False\n",
        "  params = jnp.array([1,-2,2,-1]) # fixed policy parameters\n",
        "\n",
        "  ## YOUR CODE\n",
        "\n",
        "  obs = env.reset() # TODO: get the initial obs from the env\n",
        "\n",
        "  while not done: # loop until episode is done\n",
        "\n",
        "    action = linear_policy(params, obs) # TODO: compute action using linear policy\n",
        "    action = np.array(action) # We need to the convert the action from the policy to a np.array\n",
        "\n",
        "    obs, reward, done, info = env.step(action) # TODO: step the environment\n",
        "\n",
        "    episode_return += reward # TODO: add reward to episode return\n",
        "\n",
        "  return episode_return"
      ]
    },
    {
      "cell_type": "code",
      "execution_count": null,
      "metadata": {
        "id": "bA2Orj9PVbKO",
        "colab": {
          "base_uri": "https://localhost:8080/"
        },
        "outputId": "dc546592-4c56-4973-bdf6-801f4e57aab6"
      },
      "outputs": [
        {
          "output_type": "stream",
          "name": "stdout",
          "text": [
            "Looks correct!\n"
          ]
        }
      ],
      "source": [
        "# @title Проверка упр 2 (run me) { display-mode: \"form\" }\n",
        "\n",
        "try:\n",
        "  env.seed(42)\n",
        "  if run_episode(env) == 31:\n",
        "    print(\"Looks correct!\")\n",
        "  else:\n",
        "    print(\"Looks like your implementation might be wrong.\")\n",
        "except Exception as e:\n",
        "    print(\"An Error Occured: {}\".format(e))"
      ]
    },
    {
      "cell_type": "markdown",
      "metadata": {
        "id": "fUGdzHxJnZGl"
      },
      "source": [
        "В CartPole среда считается решенной, когда агент может надежно достичь возврата эпизода 500. Как вы можете видеть, наша текущая политика далека от оптимальной.\n",
        "\n",
        "Один из способов найти оптимальную политику — это случайным образом пробовать разные политики, пока не найдем оптимальную. Эта стратегия называется случайным поиском политики и может быть на удивление эффективной.\n",
        "\n",
        "Прежде чем мы реализуем случайный поиск политики, давайте быстро рассмотрим общий цикл обучения RL, который мы будем использовать для реализации алгоритмов в оставшейся части этого руководства.\n",
        "\n",
        "### Цикл обучения RL общего назначения\n",
        "Мы реализовали для вас цикл обучения RL общего назначения. Цикл обучения принимает несколько аргументов в качестве входных данных, но три наиболее важных для понимания — это `agent_select_action_func`, `agent_learn_func` и `agent_memory`.\n",
        "\n",
        "* `agent_select_action_func` — это функция, которую мы определяем и можем передать в цикл обучения. Функция принимает наблюдение и набор `agent_params` в качестве входных данных и должна возвращать действие.\n",
        "* `agent_learn_func` — это еще один метод, который мы определяем и передаем в цикл обучения. Он должен принимать параметры агента и некоторые «воспоминания» в качестве входных данных, а затем обновлять и возвращать агентам новые параметры.\n",
        "* `agent_memory` — это модуль общего назначения, который мы определяем, который может хранить некоторую релевантную информацию об опыте агента в среде, которую можно использовать в `agent_learn_func`.\n",
        "\n",
        "Ниже приведена функция цикла обучения, которую мы реализовали для вас. Вы можете просмотреть код и попытаться понять его, но это не обязательно. Таким образом, мы скрыли код по умолчанию, просто убедитесь, что вы запустили ячейку кода, прежде чем двигаться дальше, потому что цикл обучения далее в коде."
      ]
    },
    {
      "cell_type": "code",
      "execution_count": null,
      "metadata": {
        "id": "ZWBwz3zMRjM0"
      },
      "outputs": [],
      "source": [
        "#@title Training loop (run me) { display-mode: \"form\" }\n",
        "\n",
        "# NamedTuple to store transitions\n",
        "Transition = collections.namedtuple(\"Transition\", [\"obs\", \"action\", \"reward\", \"next_obs\", \"done\"])\n",
        "\n",
        "# Training Loop\n",
        "def run_training_loop(env_name, agent_params, agent_select_action_func,\n",
        "    agent_actor_state=None, agent_learn_func=None, agent_learner_state=None,\n",
        "    agent_memory=None, num_episodes=1000, evaluator_period=100,\n",
        "    evaluation_episodes=8, learn_steps_per_episode=1,\n",
        "    train_every_timestep=False, video_subdir=\"\",):\n",
        "    \"\"\"\n",
        "    This function runs several episodes in an environment and periodically does\n",
        "    some agent learning and evaluation.\n",
        "\n",
        "    Args:\n",
        "        env: a gym environment.\n",
        "        agent_params: an object to store parameters that the agent uses.\n",
        "        agent_select_func: a function that does action selection for the agent.\n",
        "        agent_actor_state (optional): an object that stores the internal state\n",
        "            of the agents action selection function.\n",
        "        agent_learn_func (optional): a function that does some learning for the\n",
        "            agent by updating the agent parameters.\n",
        "        agent_learn_state (optional): an object that stores the internal state\n",
        "            of the agent learn function.\n",
        "        agent_memory (optional): an object for storing an retrieving historical\n",
        "            experience.\n",
        "        num_episodes: how many episodes to run.\n",
        "        evaluator_period: how often to run evaluation.\n",
        "        evaluation_episodes: how many evaluation episodes to run.\n",
        "        train_every_timestep: whether to train every timestep rather than at the end\n",
        "            of the episode.\n",
        "        video_subdir: subdirectory to store epsiode recordings.\n",
        "\n",
        "    Returns:\n",
        "        episode_returns: list of all the episode returns.\n",
        "        evaluator_episode_returns: list of all the evaluator episode returns.\n",
        "    \"\"\"\n",
        "\n",
        "    # Setup Cartpole environment and recorder\n",
        "    env = gym.make(env_name, render_mode=\"rgb_array\") # training environment\n",
        "    eval_env = gym.make(env_name, render_mode=\"rgb_array\") # evaluation environment\n",
        "\n",
        "    # Video dir\n",
        "    video_dir = \"./video\"+\"/\"+video_subdir\n",
        "\n",
        "    # Clear video dir\n",
        "    try:\n",
        "      rmtree(video_dir)\n",
        "    except:\n",
        "      pass\n",
        "\n",
        "    # Wrap in recorder\n",
        "    env = RecordVideo(env, video_dir+\"/train\", episode_trigger=lambda x: (x % evaluator_period) == 0)\n",
        "    eval_env = RecordVideo(eval_env, video_dir+\"/eval\", episode_trigger=lambda x: (x % evaluation_episodes) == 0)\n",
        "\n",
        "    # JAX random number generator\n",
        "    rng = hk.PRNGSequence(jax.random.PRNGKey(0))\n",
        "    env.seed(0) # seed environment for reproducability\n",
        "    random.seed(0)\n",
        "\n",
        "    episode_returns = [] # List to store history of episode returns.\n",
        "    evaluator_episode_returns = [] # List to store history of evaluator returns.\n",
        "    timesteps = 0\n",
        "    for episode in range(num_episodes):\n",
        "\n",
        "        # Reset environment.\n",
        "        obs = env.reset()\n",
        "        episode_return = 0\n",
        "        done = False\n",
        "\n",
        "        while not done:\n",
        "\n",
        "            # Agent select action.\n",
        "            action, agent_actor_state = agent_select_action_func(\n",
        "                                            next(rng),\n",
        "                                            agent_params,\n",
        "                                            agent_actor_state,\n",
        "                                            np.array(obs)\n",
        "                                        )\n",
        "\n",
        "            # Step environment.\n",
        "            next_obs, reward, done, _ = env.step(int(action))\n",
        "\n",
        "            # Pack into transition.\n",
        "            transition = Transition(obs, action, reward, next_obs, done)\n",
        "\n",
        "            # Add transition to memory.\n",
        "            if agent_memory: # check if agent has memory\n",
        "              agent_memory.push(transition)\n",
        "\n",
        "            # Add reward to episode return.\n",
        "            episode_return += reward\n",
        "\n",
        "            # Set obs to next obs before next environment step. CRITICAL!!!\n",
        "            obs = next_obs\n",
        "\n",
        "            # Increment timestep counter\n",
        "            timesteps += 1\n",
        "\n",
        "            # Maybe learn every timestep\n",
        "            if train_every_timestep and (timesteps % 4 == 0) and agent_memory and agent_memory.is_ready(): # Make sure memory is ready\n",
        "                # First sample memory and then pass the result to the learn function\n",
        "                memory = agent_memory.sample()\n",
        "                agent_params, agent_learner_state = agent_learn_func(\n",
        "                                                        next(rng),\n",
        "                                                        agent_params,\n",
        "                                                        agent_learner_state,\n",
        "                                                        memory\n",
        "                                                    )\n",
        "\n",
        "        episode_returns.append(episode_return)\n",
        "\n",
        "        # At the end of every episode we do a learn step.\n",
        "        if agent_memory and agent_memory.is_ready(): # Make sure memory is ready\n",
        "\n",
        "            for _ in range(learn_steps_per_episode):\n",
        "                # First sample memory and then pass the result to the learn function\n",
        "                memory = agent_memory.sample()\n",
        "                agent_params, agent_learner_state = agent_learn_func(\n",
        "                                                        next(rng),\n",
        "                                                        agent_params,\n",
        "                                                        agent_learner_state,\n",
        "                                                        memory\n",
        "                                                    )\n",
        "\n",
        "        if (episode % evaluator_period) == 0: # Do evaluation\n",
        "\n",
        "            evaluator_episode_return = 0\n",
        "            for eval_episode in range(evaluation_episodes):\n",
        "                obs = eval_env.reset()\n",
        "                done = False\n",
        "                while not done:\n",
        "                    action, _ = agent_select_action_func(\n",
        "                                    next(rng),\n",
        "                                    agent_params,\n",
        "                                    agent_actor_state,\n",
        "                                    np.array(obs),\n",
        "                                    evaluation=True\n",
        "                                )\n",
        "\n",
        "                    obs, reward, done, _ = eval_env.step(int(action))\n",
        "\n",
        "                    evaluator_episode_return += reward\n",
        "\n",
        "            evaluator_episode_return /= evaluation_episodes\n",
        "\n",
        "            evaluator_episode_returns.append(evaluator_episode_return)\n",
        "\n",
        "            logs = [\n",
        "                    f\"Episode: {episode}\",\n",
        "                    f\"Episode Return: {episode_return}\",\n",
        "                    f\"Average Episode Return: {np.mean(episode_returns[-20:])}\",\n",
        "                    f\"Evaluator Episode Return: {evaluator_episode_return}\"\n",
        "            ]\n",
        "\n",
        "            print(*logs, sep=\"\\t\") # Print the logs\n",
        "\n",
        "    env.close()\n",
        "    eval_env.close()\n",
        "\n",
        "    return episode_returns, evaluator_episode_returns"
      ]
    },
    {
      "cell_type": "markdown",
      "metadata": {
        "id": "CTPlIq4oDBPY"
      },
      "source": [
        "##2. Случайный поиск политики (RPS)\n",
        "В разделе 1 мы использовали фиксированный набор параметров для нашей политики. То есть мы не изучали параметры $\\pi$ $\\theta$, мы просто сохранили их фиксированными ( `params = [1,-2,2,-1]`).\n",
        "\n",
        "Теперь мы реализуем случайный поиск политики (RPS), который представляет собой алгоритм, который случайным образом пробует различные параметры политики и отслеживает лучшие параметры, найденные на данный момент. Мы скажем, что параметры политики $\\theta_A$ лучше параметров $\\theta_B$, если средний возврат эпизода, достигнутый за последние 20 эпизодов политикой с параметрами $\\theta_A$, больше, чем у политики с параметрами $\\theta_B$.\n",
        "\n",
        "Чтобы отслеживать «текущие» параметры, а также «лучшие» параметры, мы будем использовать [NamedTuple](https://www.geeksforgeeks.org/namedtuple-in-python/)."
      ]
    },
    {
      "cell_type": "code",
      "execution_count": null,
      "metadata": {
        "id": "1DcaC-PQRjM1",
        "colab": {
          "base_uri": "https://localhost:8080/"
        },
        "outputId": "5e64b527-a902-4292-d349-62c0bf48e886"
      },
      "outputs": [
        {
          "output_type": "stream",
          "name": "stdout",
          "text": [
            "Best params: [0. 0. 0. 0.]\n",
            "Current params: [-1. -1. -1. -1.]\n"
          ]
        }
      ],
      "source": [
        "# Parameter container for Random Policy Search\n",
        "RandomPolicySearchParams = collections.namedtuple(\"RandomPolicySearchParams\", [\"current\", \"best\"])\n",
        "\n",
        "# TEST: store two different sets of parameters\n",
        "current_params = np.ones(obs_shape) * -1\n",
        "best_params = np.zeros(obs_shape)\n",
        "rps_params = RandomPolicySearchParams(current_params, best_params)\n",
        "\n",
        "# How to access the best or current params.\n",
        "print(f\"Best params: {rps_params.best}\")\n",
        "print(f\"Current params: {rps_params.current}\")"
      ]
    },
    {
      "cell_type": "markdown",
      "metadata": {
        "id": "v91pDDzGex9a"
      },
      "source": [
        "Далее мы реализуем следующее:\n",
        "- **Функция выбора действия RPS** - определяет, как мы выбираем действия с учетом набора параметров.\n",
        "- **Модуль памяти RPS** - определяет, какой опыт хранить из взаимодействий со средой.\n",
        "- **Функция обучения RPS** - определяет, как мы обновляем и улучшаем параметры нашей политики."
      ]
    },
    {
      "cell_type": "markdown",
      "metadata": {
        "id": "0tExceGeGNYH"
      },
      "source": [
        "### Функция выбора действия RPS\n",
        "Давайте реализуем функцию с именем `random_policy_search_choose_action`, которую мы можем передать в цикл обучения. Функция должна принимать несколько аргументов, чтобы она могла хорошо взаимодействовать с нашим обобщенным циклом обучения, но вам нужно будет использовать только три из них - `params`, `obs` и `evaluation`.\n",
        "\n",
        "- `params` - это экземпляр `RandomPolicySearchParams` с \"current\" и \"best\".\n",
        "- `obs` - это последнее наблюдение из среды.\n",
        "- `evaluation` - это логическое значение, которое указывает, следует ли нам использовать параметры \"current\" или \"best\". Когда `evaluation==True`, мы должны использовать параметры \"best\", в противном случае мы должны использовать параметры \"current\".\n",
        "\n",
        "**Упражнение 3:** Реализуйте функцию `random_policy_search_choose_action`, как описано выше. Вам следует использовать метод `linear_policy`, который мы определили ранее. Вам также понадобится `jax.lax.select()` для условного возврата \"лучшего\" действия или \"текущего\" действия."
      ]
    },
    {
      "cell_type": "code",
      "execution_count": null,
      "metadata": {
        "id": "1kmwT35JRjM1"
      },
      "outputs": [],
      "source": [
        "def random_policy_search_choose_action(\n",
        "    key,\n",
        "    params,\n",
        "    actor_state,\n",
        "    obs,\n",
        "    evaluation=False\n",
        "):\n",
        "  \"\"\"Random policy search select action method.\n",
        "\n",
        "  Args:\n",
        "    key: a random number (seed). Not used in this function.\n",
        "    params: the agent's parameters. In this case an instance of `RandomPolicySearchParams`\n",
        "    actor_state: some extra information about the actor. Not used in this function.\n",
        "    obs: the latest observation.\n",
        "    evaluation: a boolean indicating whether to use the best \"parameters\" or the \"current\" ones.\n",
        "\n",
        "  Returns:\n",
        "    The chosen action and the updated actor_state. In this function the actor_state is not updated.\n",
        "  \"\"\"\n",
        "\n",
        "  # YOUR CODE\n",
        "\n",
        "  best_action = linear_policy(params.best, obs)  # Используем параметры \"best\"\n",
        "\n",
        "  current_action = linear_policy(params.current, obs)  # Используем параметры \"current\"\n",
        "\n",
        "\n",
        "  action = jax.lax.select(evaluation, best_action, current_action)\n",
        "\n",
        "  # END YOUR CODE\n",
        "\n",
        "  return action, actor_state"
      ]
    },
    {
      "cell_type": "code",
      "execution_count": null,
      "metadata": {
        "id": "YE4xoAgyI3kG",
        "colab": {
          "base_uri": "https://localhost:8080/"
        },
        "outputId": "28a57ddd-1128-4d75-e0a6-e1fee0c19a1b"
      },
      "outputs": [
        {
          "output_type": "stream",
          "name": "stdout",
          "text": [
            "Your function looks correct.\n"
          ]
        }
      ],
      "source": [
        "# @title Проверка упр 3 (run me) {display-mode: \"form\"}\n",
        "\n",
        "def check_random_policy_search_choose_action(choose_action):\n",
        "  key = None # not used\n",
        "  actor_state = None # not used\n",
        "\n",
        "  # obs\n",
        "  obs = np.ones(obs_shape)\n",
        "\n",
        "  evaluation=False\n",
        "  current_params = np.ones(obs_shape) * -1\n",
        "  best_params = np.ones(obs_shape)\n",
        "  rps_params = RandomPolicySearchParams(current_params, best_params)\n",
        "  action, actor_state = choose_action(key,rps_params,actor_state,obs,evaluation)\n",
        "  if action != 0:\n",
        "    return False\n",
        "\n",
        "  evaluation=True\n",
        "  current_params = np.ones(obs_shape) * -1\n",
        "  best_params = np.ones(obs_shape)\n",
        "  rps_params = RandomPolicySearchParams(current_params, best_params)\n",
        "  action, actor_state = choose_action(key,rps_params,actor_state,obs,evaluation)\n",
        "  if action != 1:\n",
        "    return False\n",
        "\n",
        "  return True\n",
        "\n",
        "try:\n",
        "  if check_random_policy_search_choose_action(random_policy_search_choose_action):\n",
        "    print(\"Your function looks correct.\")\n",
        "  else:\n",
        "    print(\"Your function looks incorrect.\")\n",
        "except Exception as e:\n",
        "    print(\"An Error Occured: {}\".format(e))"
      ]
    },
    {
      "cell_type": "markdown",
      "metadata": {
        "id": "6zu51ep7Sh0M"
      },
      "source": [
        "### Память агента RPS\n",
        "\n",
        "Для алгоритма поиска случайной политики нам нужно будет отслеживать средний возврат эпизода для последних 50 эпизодов. Помните, что мы сказали, что «текущие» параметры будут считаться «лучшими» параметрами, если средний возврат эпизода при использовании этих параметров больше предыдущего лучшего среднего возврата эпизода.\n",
        "\n",
        "Мы будем использовать интерфейс памяти общего назначения, который довольно прост. Модуль памяти должен иметь три метода. Первый — это функция `memory.push(<transition>)`, которая добавляет некоторую информацию о последнем переходе среды в память. Второй — это функция `memory.is_ready()`, которая проверяет, готова ли память к обучению. Наконец, функция `memory.sample()` должна возвращать последний набор воспоминаний, которые можно передать в `agent_learn_func`.\n",
        "\n",
        "#### Память среднего возврата эпизода\n",
        "Мы создали для вас простой модуль памяти агента. Он хранит `epsisode_returns` последних 20 эпизодов. Прочитайте нашу реализацию ниже и посмотрите, сможете ли вы ее понять. Метод `memory.sample()` возвращает средний возврат эпизода за последние 20 эпизодов."
      ]
    },
    {
      "cell_type": "code",
      "execution_count": null,
      "metadata": {
        "id": "YVkTBIK5RjM1"
      },
      "outputs": [],
      "source": [
        "class AverageEpisodeReturnBuffer:\n",
        "\n",
        "    def __init__(self, num_episodes_to_store=50):\n",
        "        \"\"\"\n",
        "        This class implements an agent memory that stores the average episode\n",
        "        return over the last 50 episodes.\n",
        "        \"\"\"\n",
        "        self.num_episodes_to_store = num_episodes_to_store\n",
        "        self.episode_return_buffer = []\n",
        "        self.current_episode_return = 0\n",
        "\n",
        "    def push(self, transition):\n",
        "        self.current_episode_return += transition.reward\n",
        "\n",
        "        if transition.done: # If the episode is done\n",
        "            # Add episode return to buffer\n",
        "            self.episode_return_buffer.append(self.current_episode_return)\n",
        "\n",
        "            # Reset episode return\n",
        "            self.current_episode_return = 0\n",
        "\n",
        "\n",
        "    def is_ready(self):\n",
        "        return len(self.episode_return_buffer) == self.num_episodes_to_store\n",
        "\n",
        "    def sample(self):\n",
        "        average_episode_return = np.mean(self.episode_return_buffer)\n",
        "\n",
        "        # Clear episode return buffer\n",
        "        self.episode_return_buffer = []\n",
        "\n",
        "        return average_episode_return"
      ]
    },
    {
      "cell_type": "markdown",
      "metadata": {
        "id": "0oXBsSa2KjWE"
      },
      "source": [
        "### Функция обучения RPS\n",
        "Наконец, нам нужно реализовать функцию `random_policy_search_learn` для нашего алгоритма поиска случайной политики. Функция обучения довольно проста. Все, что нам нужно сделать, это проверить, лучше ли текущие параметры, чем лучшие параметры. Если они лучше, то установите лучшие параметры в качестве текущих параметров и случайным образом сгенерируйте новый набор текущих параметров.\n",
        "\n",
        "**Упражнение 4:** Напишите функцию для случайной генерации новых весов с использованием JAX. Веса должны быть выбраны из интервала `[-2,2]`.\n",
        "\n",
        "**Полезные функции:**\n",
        "*   `jax.random.uniform` ([docs](https://jax.readthedocs.io/en/latest/_autosummary/jax.random.uniform.html#jax.random.uniform))\n",
        "\n"
      ]
    },
    {
      "cell_type": "code",
      "execution_count": null,
      "metadata": {
        "id": "8V2yFM2XMjGW"
      },
      "outputs": [],
      "source": [
        "def get_new_random_weights(random_key, old_weights, minval=-2.0, maxval=2.0):\n",
        "    new_weights_shape = old_weights.shape # you will need to use these values\n",
        "    new_weights_dtype = old_weights.dtype # you will need to use these values\n",
        "\n",
        "    # YOUR CODE\n",
        "\n",
        "    new_params = jax.random.uniform(random_key, shape=new_weights_shape, minval=minval, maxval=maxval, dtype=new_weights_dtype)\n",
        "\n",
        "\n",
        "    # END YOUR CODE\n",
        "\n",
        "    return new_params"
      ]
    },
    {
      "cell_type": "code",
      "execution_count": null,
      "metadata": {
        "id": "T8ifHTKGQlAd",
        "colab": {
          "base_uri": "https://localhost:8080/"
        },
        "outputId": "db2b3207-d18f-4e52-d546-d7099849e7e9"
      },
      "outputs": [
        {
          "output_type": "stream",
          "name": "stdout",
          "text": [
            "Function is correct!\n"
          ]
        }
      ],
      "source": [
        "# @title Проверка упр 4 (run me) {display-mode: \"form\"}\n",
        "\n",
        "def check_get_new_random_weights(get_new_random_weights):\n",
        "  old_weights = np.ones(obs_shape, \"float32\")\n",
        "  random_key = jax.random.PRNGKey(42)\n",
        "\n",
        "  # Case 1\n",
        "  new_weights = get_new_random_weights(random_key, old_weights, minval=-2.0, maxval=2.0)\n",
        "\n",
        "  if jnp.array_equal(new_weights, jnp.array([ 0.29657745,1.4265499, -1.7621555, -1.7505779 ])):\n",
        "    print(\"Function is correct!\")\n",
        "  else:\n",
        "    print(\"Something is wrong.\")\n",
        "\n",
        "try:\n",
        "  check_get_new_random_weights(get_new_random_weights)\n",
        "except Exception as e:\n",
        "    print(\"An Error Occured: {}\".format(e))"
      ]
    },
    {
      "cell_type": "markdown",
      "metadata": {
        "id": "2Djxc9j-LzkM"
      },
      "source": [
        "Наша функция обучения получает память в форме среднего возврата эпизода из `AverageEpisodeReturnMemory`, которую мы реализовали ранее. Мы можем использовать это для сравнения текущих параметров с лучшими параметрами. Но нам также нужно будет отслеживать лучший средний возврат эпизода для функции обучения. Для этого мы можем использовать аргумент `learn_state`, который передается в `agent_learn_func` в нашем цикле обучения. Как и в случае с `RandomPolicySearchParams`, мы будем использовать NamedTuple для хранения `best_average_episode_return` в `learn_state`."
      ]
    },
    {
      "cell_type": "code",
      "execution_count": null,
      "metadata": {
        "id": "4cSH4uYmRjM2",
        "colab": {
          "base_uri": "https://localhost:8080/"
        },
        "outputId": "39e507e2-4023-46ff-ca51-08a0dfcdb26f"
      },
      "outputs": [
        {
          "output_type": "stream",
          "name": "stdout",
          "text": [
            "Initial best average episode return: -inf\n"
          ]
        }
      ],
      "source": [
        "# A NamedTuple to store the best average episode return so far\n",
        "RandomPolicyLearnState = collections.namedtuple(\n",
        "  \"RandomPolicyLearnState\",\n",
        "  [\"best_average_episode_return\"]\n",
        ")\n",
        "\n",
        "# Test\n",
        "initial_learn_state = RandomPolicyLearnState(best_average_episode_return=-float(\"inf\"))\n",
        "print(\"Initial best average episode return:\", initial_learn_state.best_average_episode_return)"
      ]
    },
    {
      "cell_type": "markdown",
      "metadata": {
        "id": "PxZXdP8bOu6b"
      },
      "source": [
        "Теперь у нас есть все необходимое для реализации функции `random_policy_search_learn`.\n",
        "\n",
        "**Упражнение 5:** Реализуйте функцию `random_policy_search_learn`. Функция должна проверять, лучше ли «текущие» параметры, чем «лучшие» параметры, сравнивая `current_average_episode_return` с `best_average_episode_return`. Функция также должна обновлять `learn_state`."
      ]
    },
    {
      "cell_type": "code",
      "execution_count": null,
      "metadata": {
        "id": "Te_Q3qzmZcN_"
      },
      "outputs": [],
      "source": [
        "def random_policy_search_learn(key, params, learn_state, memory):\n",
        "    best_params = params.best\n",
        "    current_params = params.current\n",
        "\n",
        "    current_average_episode_return = memory # the memory contains the average episode return\n",
        "    best_average_episode_return = learn_state.best_average_episode_return\n",
        "\n",
        "\n",
        "    # YOUR CODE\n",
        "\n",
        "    best_params = jax.lax.select(current_average_episode_return > best_average_episode_return, current_params, best_params)\n",
        "\n",
        "    best_average_episode_return = jax.lax.select(current_average_episode_return > best_average_episode_return, current_average_episode_return, best_average_episode_return)\n",
        "\n",
        "    # END YOUR CODE\n",
        "\n",
        "    # Generate new random parameters\n",
        "    new_params = get_new_random_weights(key, current_params)\n",
        "\n",
        "    # Bundle weights in RandomPolicySearchParams NamedTuple\n",
        "    params = RandomPolicySearchParams(current=new_params, best=best_params)\n",
        "\n",
        "    return params, RandomPolicyLearnState(best_average_episode_return)"
      ]
    },
    {
      "cell_type": "code",
      "execution_count": null,
      "metadata": {
        "id": "CXHV4k2iBLBF",
        "colab": {
          "base_uri": "https://localhost:8080/"
        },
        "outputId": "a8bc7a0d-04cb-4d77-d17b-852ed1627f4b"
      },
      "outputs": [
        {
          "output_type": "stream",
          "name": "stdout",
          "text": [
            "Your function looks correct.\n"
          ]
        }
      ],
      "source": [
        "#@title Проверка упр 5 {display-mode: \"form\"}\n",
        "\n",
        "params = RandomPolicySearchParams(np.ones(obs_shape, \"float32\"), np.ones(obs_shape, \"float32\") * -1)\n",
        "learn_state = RandomPolicyLearnState(10)\n",
        "memory = 11\n",
        "key = jax.random.PRNGKey(42)\n",
        "\n",
        "try:\n",
        "  new_params, new_learn_state = random_policy_search_learn(key, params, learn_state, memory)\n",
        "\n",
        "  if not jnp.array_equal(new_params.current, jnp.array([ 0.29657745,  1.4265499 , -1.7621555 , -1.7505779 ])):\n",
        "    print(\"Your function is incorrect.\")\n",
        "\n",
        "  elif not jnp.array_equal(new_params.best, jnp.array([1., 1., 1., 1.])):\n",
        "    print(\"Your function is incorrect.\")\n",
        "\n",
        "  elif new_learn_state.best_average_episode_return != 11:\n",
        "    print(\"Your function is incorrect.\")\n",
        "\n",
        "  else:\n",
        "    print(\"Your function looks correct.\")\n",
        "except Exception as e:\n",
        "    print(\"An Error Occured: {}\".format(e))"
      ]
    },
    {
      "cell_type": "markdown",
      "metadata": {
        "id": "5Ol_AxnMBdgP"
      },
      "source": [
        "### Цикл обучения RPS\n",
        "Теперь мы можем собрать все вместе, передав модуль `memory`, функцию `learn` и функцию `choose_action` в цикл обучения. Чтобы ускорить наш алгоритм, мы будем использовать `jax.jit` в функции `learn` и функции `choose_action`."
      ]
    },
    {
      "cell_type": "code",
      "execution_count": null,
      "metadata": {
        "id": "Qx57tf7vRjM3",
        "colab": {
          "base_uri": "https://localhost:8080/",
          "height": 680
        },
        "outputId": "8e01fc07-4c81-465a-bffa-83d699fe4292"
      },
      "outputs": [
        {
          "output_type": "stream",
          "name": "stdout",
          "text": [
            "Starting training. This may take up to 5 minutes to complete.\n",
            "Episode: 0\tEpisode Return: 80.0\tAverage Episode Return: 80.0\tEvaluator Episode Return: 139.375\n",
            "Episode: 100\tEpisode Return: 48.0\tAverage Episode Return: 29.45\tEvaluator Episode Return: 128.125\n",
            "Episode: 200\tEpisode Return: 60.0\tAverage Episode Return: 58.05\tEvaluator Episode Return: 148.25\n",
            "Episode: 300\tEpisode Return: 17.0\tAverage Episode Return: 21.95\tEvaluator Episode Return: 142.875\n",
            "Episode: 400\tEpisode Return: 9.0\tAverage Episode Return: 16.65\tEvaluator Episode Return: 114.75\n",
            "Episode: 500\tEpisode Return: 8.0\tAverage Episode Return: 135.6\tEvaluator Episode Return: 153.5\n",
            "Episode: 600\tEpisode Return: 74.0\tAverage Episode Return: 12.9\tEvaluator Episode Return: 127.5\n",
            "Episode: 700\tEpisode Return: 10.0\tAverage Episode Return: 78.45\tEvaluator Episode Return: 148.625\n",
            "Episode: 800\tEpisode Return: 72.0\tAverage Episode Return: 12.2\tEvaluator Episode Return: 141.875\n",
            "Episode: 900\tEpisode Return: 200.0\tAverage Episode Return: 32.25\tEvaluator Episode Return: 153.625\n",
            "Episode: 1000\tEpisode Return: 9.0\tAverage Episode Return: 9.4\tEvaluator Episode Return: 125.5\n"
          ]
        },
        {
          "output_type": "display_data",
          "data": {
            "text/plain": [
              "<Figure size 640x480 with 1 Axes>"
            ],
            "image/png": "[encoded data removed]"
          },
          "metadata": {}
        }
      ],
      "source": [
        "# JIT the learn and choose action functions\n",
        "random_policy_search_learn_jit = jax.jit(random_policy_search_learn)\n",
        "random_policy_search_choose_action_jit = jax.jit(random_policy_search_choose_action)\n",
        "\n",
        "# Initialise the parameters\n",
        "initial_weights = np.ones(obs_shape, \"float32\")\n",
        "initial_params = RandomPolicySearchParams(initial_weights, initial_weights)\n",
        "\n",
        "# Initialise the learn state\n",
        "initial_learn_state = RandomPolicyLearnState(best_average_episode_return=-float(\"inf\"))\n",
        "\n",
        "# Initialise memory\n",
        "memory = AverageEpisodeReturnBuffer(num_episodes_to_store=50)\n",
        "\n",
        "# Run the training loop\n",
        "print(\"Starting training. This may take up to 5 minutes to complete.\")\n",
        "chex.clear_trace_counter()\n",
        "episode_return, evaluator_episode_returns = run_training_loop(\n",
        "                                        env_name,\n",
        "                                        initial_params,\n",
        "                                        random_policy_search_choose_action_jit,\n",
        "                                        None, # no actor state\n",
        "                                        random_policy_search_learn_jit,\n",
        "                                        initial_learn_state,\n",
        "                                        memory,\n",
        "                                        num_episodes=1001,\n",
        "                                        video_subdir=\"rps\"\n",
        "                                    )\n",
        "\n",
        "# Plot graph of evaluator episode returns\n",
        "plt.plot(np.linspace(0, 1000, len(evaluator_episode_returns)), evaluator_episode_returns)\n",
        "plt.title(\"Random Policy Search\")\n",
        "plt.xlabel(\"Episodes\")\n",
        "plt.ylabel(\"Episode Return\")\n",
        "plt.show()"
      ]
    },
    {
      "cell_type": "markdown",
      "metadata": {
        "id": "TG10FG6uS05A"
      },
      "source": [
        "Надеюсь, вы нашли набор оптимальных параметров на CartPole (возврат эпизода достигает `200`). В ячейке ниже вы можете посмотреть несколько видеороликов агента, выполняющего задание."
      ]
    },
    {
      "cell_type": "code",
      "execution_count": null,
      "metadata": {
        "id": "KgayDJ7KWC4C",
        "colab": {
          "base_uri": "https://localhost:8080/",
          "height": 289
        },
        "outputId": "a3fe25ba-dfa5-47f7-fc50-a2d73f3f3c5a"
      },
      "outputs": [
        {
          "output_type": "execute_result",
          "data": {
            "text/plain": [
              "<IPython.core.display.HTML object>"
            ],
            "text/html": [
              "\n",
              "<video width=400 controls>\n",
              "      <source src=\"data:video/mp4;base64,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\" type=\"video/mp4\">\n",
              "</video>\n"
            ]
          },
          "metadata": {},
          "execution_count": 30
        }
      ],
      "source": [
        "#@title Visualise Policy {display-mode: \"form\"}\n",
        "#@markdown Choose an episode number that is a multiple of 100 and less than or equal to 2000, and **run** this cell.\n",
        "episode_number = 1000 #@param {type:\"number\"}\n",
        "\n",
        "assert (episode_number % 100) == 0, \"Episode number must be a multiple of 100 since we only record every 100th episode.\"\n",
        "assert episode_number < 1001, \"Episode number must be less than or equal to 2000\"\n",
        "\n",
        "eval_episode_number = int(episode_number / 100 * 8)\n",
        "video_path = f\"./video/rps/eval/rl-video-episode-{eval_episode_number}.mp4\"\n",
        "\n",
        "mp4 = open(video_path,'rb').read()\n",
        "data_url = \"data:video/mp4;base64,\" + b64encode(mp4).decode()\n",
        "HTML(\"\"\"\n",
        "<video width=400 controls>\n",
        "      <source src=\"%s\" type=\"video/mp4\">\n",
        "</video>\n",
        "\"\"\" % data_url)"
      ]
    },
    {
      "cell_type": "markdown",
      "metadata": {
        "id": "Xwf1IKKbrrVn"
      },
      "source": [
        "Итак, случайный поиск политики справился с этой задачей довольно хорошо. Однако здесь происходит очень мало (если вообще происходит) реального *обучения*. Далее давайте рассмотрим реализацию простого алгоритма RL, который может использовать свой опыт для руководства нашим поиском оптимальной политики, а не просто искать ее случайным образом."
      ]
    },
    {
      "cell_type": "markdown",
      "metadata": {
        "id": "XEnSjZVESrxc"
      },
      "source": [
        "## 3. Градиенты политики  (Policy Gradients, PG)\n",
        "Как обсуждалось, цель RL — найти политику, которая максимизирует ожидаемое совокупное вознаграждение (возврат), которое агент получает от среды. Мы можем записать ожидаемый возврат политики как:\n",
        "\n",
        "$J(\\pi_\\theta)=\\mathrm{E}_{\\tau\\sim\\pi_\\theta}\\ [R(\\tau)]$,\n",
        "\n",
        "где $\\pi_\\theta$ — это политика, параметризованная $\\theta$, $\\mathrm{E}$ означает *ожидание*, $\\tau$ — это сокращение для \"*эпизод*\", $\\tau\\sim\\pi_\\theta$ — это сокращение для \"*эпизоды, выбранные с использованием политики* $\\pi_\\theta$\", а $R(\\tau)$ — это возврат эпизода $\\tau$.\n",
        "\n",
        "Затем, цель в RL — найти параметры $\\theta$, которые максимизируют функцию $J(\\pi_\\theta)$. Один из способов найти эти параметры — выполнить градиентный подъем по $J(\\pi_\\theta)$ относительно параметров $\\theta$:\n",
        "\n",
        "$\\theta_{k+1}=\\theta_k + \\alpha \\nabla J(\\pi_\\theta)|_{\\theta_{k}}$,\n",
        "\n",
        "где $\\nabla J(\\pi_\\theta)|_{\\theta_{k}}$ — градиент ожидаемой доходности относительно параметров политики $\\theta_k$, а $\\alpha$ — размер шага. Эта величина, $\\nabla J(\\pi_\\theta)$, также называется **градиентом политики** и очень важна в RL. Если мы сможем вычислить градиент политики, то у нас будет средство, с помощью которого можно напрямую оптимизировать нашу политику.\n",
        "\n",
        "Как оказалось, у нас есть способ вычислить градиент политики, и математический вывод можно найти [здесь](https://spinningup.openai.com/en/latest/spinningup/rl_intro3.html). Но для этого руководства мы опустим вывод и просто дадим вам результат:\n",
        "\n",
        "$\\nabla_{\\theta} J(\\pi_{\\theta})=\\underset{\\tau \\sim \\pi_{\\theta}}{\\mathrm{E}}[\\sum_{t=0}^{T} \\nabla_{\\theta} \\log \\pi_{\\theta}(a_{t} \\mid s_{t}) R(\\tau)]$\n",
        "\n",
        "Неформально, градиент политики равен градиенту логарифма вероятности выбранного действия, умноженного на возврат эпизода, в котором было предпринято действие.\n"
      ]
    },
    {
      "cell_type": "markdown",
      "metadata": {
        "id": "BTnTzgtSuy-y"
      },
      "source": [
        "### REINFORCE\n",
        "REINFORCE — это простой алгоритм RL, который использует градиент политики для поиска оптимальной политики путем увеличения вероятности выбора действий (усиливающих действий), которые, как правило, приводят к эпизодам с высокой отдачей.\n",
        "\n",
        "**Упражнение 6:** Реализуйте функцию, которая берет вероятность действия и отдачу эпизода, в котором действие было предпринято, и вычисляет логарифм вероятности, умноженный на отдачу. Убедитесь, что вы используете JAX.\n",
        "\n",
        "**Полезные функции:**\n",
        "*   `jax.numpy.log`([docs](https://jax.readthedocs.io/en/latest/_autosummary/jax.numpy.log.html))"
      ]
    },
    {
      "cell_type": "code",
      "execution_count": null,
      "metadata": {
        "id": "bJObUsoUrOyV"
      },
      "outputs": [],
      "source": [
        "def compute_weighted_log_prob(action_prob, episode_return):\n",
        "\n",
        "    # YOUR CODE\n",
        "\n",
        "    log_porb = jax.numpy.log(action_prob)\n",
        "\n",
        "    weighted_log_prob = log_porb * episode_return\n",
        "\n",
        "    # END YOUR CODE\n",
        "\n",
        "    return weighted_log_prob"
      ]
    },
    {
      "cell_type": "code",
      "execution_count": null,
      "metadata": {
        "id": "eZPoTwa1Gbm1",
        "colab": {
          "base_uri": "https://localhost:8080/"
        },
        "outputId": "82f44a62-351b-45b1-b1c6-8a265d9c1d5c"
      },
      "outputs": [
        {
          "output_type": "stream",
          "name": "stdout",
          "text": [
            "Looks correct.\n"
          ]
        }
      ],
      "source": [
        "#@title Проверка упр 6 {display-mode: \"form\"}\n",
        "\n",
        "try:\n",
        "  action_prob = 0.8\n",
        "  episode_return = 100\n",
        "  result = compute_weighted_log_prob(action_prob, episode_return)\n",
        "  if result != -22.314354:\n",
        "    print(\"Your implementation looks incorrect.\")\n",
        "  else:\n",
        "    print(\"Looks correct.\")\n",
        "except Exception as e:\n",
        "    print(\"An Error Occured: {}\".format(e))"
      ]
    },
    {
      "cell_type": "markdown",
      "metadata": {
        "id": "NmgW9UJ3tIpl"
      },
      "source": [
        "### Rewards-to-go\n",
        "Выполнение градиентного подъема по градиенту логарифма вероятности действия, взвешенного по возврату эпизода, будет иметь тенденцию повышать вероятность действий, которые были в эпизодах с высоким возвратом, независимо от того, *где* в эпизоде ​​было выполнено действие. Это на самом деле не имеет большого смысла, потому что действие ближе к концу эпизода может быть подкреплено, потому что много вознаграждения было собрано ранее в эпизоде, *до* того, как было выполнено действие. Агенты RL должны на самом деле подкреплять действия только на основе их *последствий*. Вознаграждения, полученные до выполнения действия, не влияют на то, насколько хорошим было это действие: только вознаграждения, которые приходят после. Накопленные вознаграждения, полученные после выполнения действия, называются **вознаграждениями-к-переходу** и могут быть вычислены как:\n",
        "\n",
        "$\\hat{R}_i=\\sum_{t=i}^Tr_t$\n",
        "\n",
        "Сравните это с доходностью эпизода:\n",
        "\n",
        "$R(\\tau)=\\sum_{t=0}^Tr_t$\n",
        "\n",
        "Мы можем повысить надежность градиента политики, заменив доходность эпизода на вознаграждения-к-переходу. Градиент политики с оставшимися наградами задается следующим образом:\n",
        "\n",
        "$\\nabla_{\\theta} J(\\pi_{\\theta})=\\underset{\\tau \\sim \\pi_{\\theta}}{\\mathrm{E}}[\\sum_{t=0}^{T} \\nabla_{\\theta} \\log \\pi_{\\theta}(a_{t} \\mid s_{t}) \\hat{R}_t]$\n",
        "\n",
        "**Упражнение 7:** Реализуйте функцию, которая берет список всех наград, полученных в эпизоде, и вычисляет оставшиеся награды. Не беспокойтесь об использовании JAX в этой функции. Вы можете использовать обычные операции Python, такие как `for-loops`."
      ]
    },
    {
      "cell_type": "code",
      "execution_count": null,
      "metadata": {
        "id": "nV1Hww8E3dUJ"
      },
      "outputs": [],
      "source": [
        "def compute_rewards_to_go(rewards):\n",
        "    \"\"\"\n",
        "    This function should take a list of rewards as input and\n",
        "    compute the rewards-to-go for each timestep.\n",
        "\n",
        "    EXAMPLE: compute_rewards_to_go([1, 2, 3, 4]) = [10, 9, 7, 4]\n",
        "\n",
        "    Arguments:\n",
        "    rewards[t] is the reward at time step t.\n",
        "\n",
        "    Returns:\n",
        "    rewards_to_go[t] should be the reward-to-go at timestep t.\n",
        "    \"\"\"\n",
        "    rewards_to_go = []\n",
        "\n",
        "    # Инициализация переменной для накопления оставшихся наград\n",
        "    cumulative_reward = 0\n",
        "    for r in reversed(rewards):  # Обратный проход по списку наград\n",
        "        cumulative_reward += r\n",
        "        rewards_to_go.insert(0, cumulative_reward)  # Вставляем в начало списка\n",
        "\n",
        "    return rewards_to_go\n"
      ]
    },
    {
      "cell_type": "code",
      "execution_count": null,
      "metadata": {
        "id": "hLVaVRp28YGI",
        "colab": {
          "base_uri": "https://localhost:8080/"
        },
        "outputId": "0312007f-ae53-4232-d7b4-d0df5c4b0c3d"
      },
      "outputs": [
        {
          "output_type": "stream",
          "name": "stdout",
          "text": [
            "Looks correct.\n"
          ]
        }
      ],
      "source": [
        "#@title Проверка упр 7 {display-mode: \"form\"}\n",
        "\n",
        "try:\n",
        "  result = compute_rewards_to_go([1,2,3,4])\n",
        "\n",
        "  if result != [10, 9, 7, 4]:\n",
        "    print(\"There is a problem with your implementation.\")\n",
        "  else:\n",
        "    print(\"Looks correct.\")\n",
        "except Exception as e:\n",
        "    print(\"An Error Occured: {}\".format(e))\n"
      ]
    },
    {
      "cell_type": "markdown",
      "metadata": {
        "id": "IboxN9MS65i5"
      },
      "source": [
        "### REINFORCE memory\n",
        "Далее нам нужно будет создать новую память агента для хранения вознаграждений $\\hat{R}_t$ вместе с наблюдением $o_t$ и действием $a_t$ на каждом временном шаге. Ниже мы реализовали такой модуль памяти для вас. Функция `memory.sample()` вернет пакет из последних 500 воспоминаний. Вы можете прочитать код, чтобы попытаться понять его, но это не обязательно. Поэтому мы скрываем код по умолчанию."
      ]
    },
    {
      "cell_type": "code",
      "execution_count": null,
      "metadata": {
        "id": "xhS4V6auRjM3"
      },
      "outputs": [],
      "source": [
        "# @title Реализация памяти (run me) {display-mode: \"form\"}\n",
        "\n",
        "# NamedTuple to store memory\n",
        "EpisodeRewardsToGoMemory = collections.namedtuple(\"EpisodeRewardsToGoMemory\", [\"obs\", \"action\", \"reward_to_go\"])\n",
        "\n",
        "class EpisodeRewardsToGoBuffer:\n",
        "\n",
        "    def __init__(self, num_transitions_to_store=512, batch_size=256):\n",
        "        self.batch_size = batch_size\n",
        "        self.memory_buffer = collections.deque(maxlen=num_transitions_to_store)\n",
        "        self.current_episode_transition_buffer = []\n",
        "\n",
        "    def push(self, transition):\n",
        "        self.current_episode_transition_buffer.append(transition)\n",
        "\n",
        "        if transition.done:\n",
        "\n",
        "            episode_rewards = []\n",
        "            for t in self.current_episode_transition_buffer:\n",
        "                episode_rewards.append(t.reward)\n",
        "\n",
        "            r2g = compute_rewards_to_go(episode_rewards)\n",
        "\n",
        "            for i, t in enumerate(self.current_episode_transition_buffer):\n",
        "                memory = EpisodeRewardsToGoMemory(t.obs, t.action, r2g[i])\n",
        "                self.memory_buffer.append(memory)\n",
        "\n",
        "            # Reset episode buffer\n",
        "            self.current_episode_transition_buffer = []\n",
        "\n",
        "\n",
        "    def is_ready(self):\n",
        "        return len(self.memory_buffer) >= self.batch_size\n",
        "\n",
        "    def sample(self):\n",
        "        random_memory_sample = random.sample(self.memory_buffer, self.batch_size)\n",
        "\n",
        "        obs_batch, action_batch, reward_to_go_batch = zip(*random_memory_sample)\n",
        "\n",
        "        return EpisodeRewardsToGoMemory(\n",
        "            np.stack(obs_batch).astype(\"float32\"),\n",
        "            np.asarray(action_batch).astype(\"int32\"),\n",
        "            np.asarray(reward_to_go_batch).astype(\"int32\")\n",
        "        )\n",
        "\n",
        "\n",
        "# Instantiate Memory\n",
        "REINFORCE_memory = EpisodeRewardsToGoBuffer(num_transitions_to_store=512, batch_size=256)"
      ]
    },
    {
      "cell_type": "markdown",
      "metadata": {
        "id": "Idkav_aSYXvz"
      },
      "source": [
        "### Policy neural network\n",
        "Далее мы будем использовать простую нейронную сеть для аппроксимации политики. Наша нейронная сеть политики будет иметь входной слой, который принимает наблюдение в качестве входных данных и пропускает его через два скрытых слоя, а затем выводит одно скалярное значение для каждого из возможных действий. Таким образом, в CartPole выходной слой будет иметь размер `2`.\n",
        "\n",
        "[Haiku](https://github.com/deepmind/dm-haiku) — это библиотека для реализации нейронных сетей в JAX. Ниже мы реализовали простую функцию для создания сети политики для вас.\n"
      ]
    },
    {
      "cell_type": "code",
      "execution_count": null,
      "metadata": {
        "id": "j2XO7VkORjM4"
      },
      "outputs": [],
      "source": [
        "def make_policy_network(num_actions: int, layers=[20, 20]) -> hk.Transformed:\n",
        "  \"\"\"Factory for a simple MLP network for the policy.\"\"\"\n",
        "\n",
        "  def policy_network(obs):\n",
        "    network = hk.Sequential(\n",
        "        [\n",
        "            hk.Flatten(),\n",
        "            hk.nets.MLP(layers + [num_actions])\n",
        "        ]\n",
        "    )\n",
        "    return network(obs)\n",
        "\n",
        "  return hk.without_apply_rng(hk.transform(policy_network))"
      ]
    },
    {
      "cell_type": "markdown",
      "metadata": {
        "id": "1GR2y8FjaG-G"
      },
      "source": [
        "У сетей Haiku есть две важные функции, о которых вам нужно знать. Первая — `network.init(<random_key>, <input>)`, которая возвращает набор случайных начальных параметров. Второй метод — `network.apply(<params>, <input>)`, который передает входные данные через сеть, используя предоставленный набор параметров."
      ]
    },
    {
      "cell_type": "code",
      "execution_count": null,
      "metadata": {
        "id": "fJrn9o-Vatkw",
        "colab": {
          "base_uri": "https://localhost:8080/"
        },
        "outputId": "ac5f561d-1303-46d1-f155-832523ca0b5e"
      },
      "outputs": [
        {
          "output_type": "stream",
          "name": "stdout",
          "text": [
            "Initial params: dict_keys(['mlp/~/linear_0', 'mlp/~/linear_1', 'mlp/~/linear_2'])\n",
            "Policy network output: [ 0.91155875 -0.3961737 ]\n"
          ]
        }
      ],
      "source": [
        "# Example\n",
        "POLICY_NETWORK = make_policy_network(num_actions=num_actions, layers=[20,20])\n",
        "random_key = jax.random.PRNGKey(42) # random key\n",
        "dummy_obs = np.ones(obs_shape, \"float32\")\n",
        "\n",
        "# Initialise parameters\n",
        "REINFORCE_params = POLICY_NETWORK.init(random_key, dummy_obs)\n",
        "print(\"Initial params:\", REINFORCE_params.keys())\n",
        "\n",
        "# Pass input through the network\n",
        "output = POLICY_NETWORK.apply(REINFORCE_params, dummy_obs)\n",
        "print(\"Policy network output:\", output)\n"
      ]
    },
    {
      "cell_type": "markdown",
      "metadata": {
        "id": "MlouUBvoeunz"
      },
      "source": [
        "Выходы нашей сети политик — [логиты](https://qr.ae/pv4YTe). Чтобы преобразовать это в распределение вероятностей по действиям, мы передаем логиты в функцию [softmax](https://en.wikipedia.org/wiki/Softmax_function).\n",
        "\n",
        "### УСИЛЕНИЕ выбор функции действия\n",
        "\n",
        "**Упражнение 8:** Завершите функцию ниже, которая берет вектор логитов и случайным образом выбирает действие из категориального распределения, заданного логитами.\n",
        "\n",
        "**Полезные функции:**"
      ]
    },
    {
      "cell_type": "code",
      "execution_count": null,
      "metadata": {
        "id": "m3Z8DxUmeOGJ"
      },
      "outputs": [],
      "source": [
        "def sample_action(random_key, logits):\n",
        "\n",
        "  # YOUR CODE HERE\n",
        "  action = jax.random.categorical(random_key, jnp.log(jax.nn.softmax(logits)))\n",
        "\n",
        "  # END YOUR code\n",
        "\n",
        "  return action"
      ]
    },
    {
      "cell_type": "code",
      "execution_count": null,
      "metadata": {
        "id": "5opHJMO0D_Ub",
        "colab": {
          "base_uri": "https://localhost:8080/"
        },
        "outputId": "b7011b05-7d9b-48fb-8deb-43fef119f6f5"
      },
      "outputs": [
        {
          "output_type": "stream",
          "name": "stdout",
          "text": [
            "Seems correct.\n"
          ]
        }
      ],
      "source": [
        "#@title Проверка упр 8 {display-mode: \"form\"}\n",
        "\n",
        "try:\n",
        "  random_key = jax.random.PRNGKey(42) # random key\n",
        "  action = sample_action(random_key, np.array([1,2], \"float32\"))\n",
        "  if action != 1:\n",
        "    print(\"Your function is incorrect.\")\n",
        "  else:\n",
        "    print(\"Seems correct.\")\n",
        "except Exception as e:\n",
        "    print(\"An Error Occured: {}\".format(e))"
      ]
    },
    {
      "cell_type": "markdown",
      "metadata": {
        "id": "jP5UH87VRjM4"
      },
      "source": [
        "Теперь мы можем реализовать функцию `REINFORCE_choose_action`. Мы передадим наблюдение через сеть политики для вычисления логитов, а затем передадим логиты в функцию `sample_action` для выбора и действия."
      ]
    },
    {
      "cell_type": "code",
      "execution_count": null,
      "metadata": {
        "id": "UJTzrDAZ0Ul5"
      },
      "outputs": [],
      "source": [
        "def REINFORCE_choose_action(key, params, actor_state, obs, evaluation=False):\n",
        "  obs = jnp.expand_dims(obs, axis=0) # add dummy batch dim before passing through network\n",
        "\n",
        "  # Pass obs through policy network to compute logits\n",
        "  logits = POLICY_NETWORK.apply(params, obs)\n",
        "  logits = logits[0] # remove batch dim\n",
        "\n",
        "  # Randomly sample action\n",
        "  sampled_action = sample_action(key, logits)\n",
        "\n",
        "  return sampled_action, actor_state"
      ]
    },
    {
      "cell_type": "markdown",
      "metadata": {
        "id": "NI26SLAb7iRo"
      },
      "source": [
        "Теперь, когда мы реализовали функцию `REINFORCE_choose_action`, нам осталось только создать функцию `REINFORCE_learn`. Функция обучения должна использовать функцию `weighted_log_prob`, которую мы создали ранее, чтобы вычислить потери градиента политики и применить обновления градиента к нашей нейронной сети."
      ]
    },
    {
      "cell_type": "markdown",
      "metadata": {
        "id": "36ALCJESQJ8e"
      },
      "source": [
        "### Policy gradient loss\n",
        "\n",
        "\n",
        "**Упражнение 9:** Завершите функцию `policy_gradient_loss` ниже. Функция должна вычислять вероятности действий, пропуская `logits` через функцию softmax. Затем следует извлечь вероятность заданного `action` (используя индексацию массива) и вычислить `weighted_log_prob`, используя функцию, которую мы создали ранее.\n",
        "\n",
        "**Полезные методы:**\n",
        "*   `jax.nn.softmax` ([docs](https://jax.readthedocs.io/en/latest/_autosummary/jax.nn.softmax.html))"
      ]
    },
    {
      "cell_type": "code",
      "execution_count": null,
      "metadata": {
        "id": "9sUKkqx0RjM4"
      },
      "outputs": [],
      "source": [
        "def policy_gradient_loss(action, logits, reward_to_go):\n",
        "\n",
        "  # YOUR CODE\n",
        "\n",
        "  all_action_probs = jax.nn.softmax(logits) # convert logits into probs\n",
        "\n",
        "  action_prob = all_action_probs[action] # using array indexing to get prob of action\n",
        "\n",
        "  weighted_log_prob = compute_weighted_log_prob(action_prob, reward_to_go)\n",
        "\n",
        "  # END YOUR CODE\n",
        "\n",
        "  loss = - weighted_log_prob # negative because we want gradient `ascent`\n",
        "\n",
        "  return loss"
      ]
    },
    {
      "cell_type": "code",
      "execution_count": null,
      "metadata": {
        "id": "7AMJvau1FsM5",
        "colab": {
          "base_uri": "https://localhost:8080/"
        },
        "outputId": "bb298147-eb06-4156-d54c-83157179abb2"
      },
      "outputs": [
        {
          "output_type": "stream",
          "name": "stdout",
          "text": [
            "Your implementation looks wrong.\n"
          ]
        }
      ],
      "source": [
        "#@title Проверка упр 9 {display-mode: \"form\"}\n",
        "\n",
        "try:\n",
        "  result = policy_gradient_loss(1, np.array([1,2], \"float32\"), 10)\n",
        "  if result != 3.1326175:\n",
        "    print(\"Your implementation looks wrong.\")\n",
        "  else:\n",
        "    print(\"Looks correct.\")\n",
        "except Exception as e:\n",
        "  print(\"An Error Occured: {}\".format(e))\n"
      ]
    },
    {
      "cell_type": "markdown",
      "metadata": {
        "id": "Gzuqx1jJrwVx"
      },
      "source": [
        "Когда мы делаем шаг обновления градиента политики, мы захотим сделать это, используя пакет опыта, а не просто один опыт, как выше. Мы можем использовать функцию JAX [vmap](https://jax.readthedocs.io/en/latest/_autosummary/jax.vmap.html#jax.vmap), чтобы легко заставить нашу функцию `policy_gradient_loss` работать с пакетом опыта."
      ]
    },
    {
      "cell_type": "code",
      "execution_count": null,
      "metadata": {
        "id": "3yq4naLURjM4",
        "colab": {
          "base_uri": "https://localhost:8080/"
        },
        "outputId": "3158edbb-7927-4790-ec52-4f74c56424aa"
      },
      "outputs": [
        {
          "output_type": "stream",
          "name": "stdout",
          "text": [
            "Policy gradient loss on batch: 1.6967314\n"
          ]
        }
      ],
      "source": [
        "def batched_policy_gradient_loss(params, obs_batch, action_batch, reward_to_go_batch):\n",
        "    # Get logits by passing observation through network\n",
        "    logits_batch = POLICY_NETWORK.apply(params, obs_batch)\n",
        "\n",
        "    policy_gradient_loss_batch = jax.vmap(policy_gradient_loss)(\n",
        "        action_batch,\n",
        "        logits_batch,\n",
        "        reward_to_go_batch) # add batch\n",
        "\n",
        "    # Compute mean loss over batch\n",
        "    mean_policy_gradient_loss = jnp.mean(policy_gradient_loss_batch)\n",
        "\n",
        "    return mean_policy_gradient_loss\n",
        "\n",
        "# TEST\n",
        "obs_batch = np.ones((3, *obs_shape), \"float32\")\n",
        "actions_batch = np.array([1,0,0])\n",
        "rew2go_batch = np.array([2.3, 4.3, 2.1])\n",
        "\n",
        "loss = batched_policy_gradient_loss(REINFORCE_params, obs_batch, actions_batch, rew2go_batch)\n",
        "\n",
        "print(\"Policy gradient loss on batch:\", loss)"
      ]
    },
    {
      "cell_type": "markdown",
      "metadata": {
        "id": "VDhTH3culwqo"
      },
      "source": [
        "### Оптимизатор сети\n",
        "\n",
        "Чтобы применить обновления градиента политики к нашей нейронной сети, мы будем использовать библиотеку JAX под названием [Optax](https://github.com/deepmind/optax). Optax имеет реализацию [оптимизатора Adam](https://www.geeksforgeeks.org/intuition-of-adam-optimizer/), которую мы можем использовать."
      ]
    },
    {
      "cell_type": "code",
      "execution_count": null,
      "metadata": {
        "id": "pxXINlMHP5Ic"
      },
      "outputs": [],
      "source": [
        "REINFORCE_OPTIMIZER = optax.adam(1e-3)\n",
        "\n",
        "# Initialise the optimiser\n",
        "REINFORCE_optim_state = REINFORCE_OPTIMIZER.init(REINFORCE_params)"
      ]
    },
    {
      "cell_type": "markdown",
      "metadata": {
        "id": "ViENrHOALbCw"
      },
      "source": [
        "Теперь у нас есть все необходимое для создания функции `REINFORCE_learn`. Мы сохраним состояние оптимизатора в `learn_state`. Мы вычислим градиент потерь градиента политики с помощью  `jax.grad` ([docs](https://jax.readthedocs.io/en/latest/_autosummary/jax.grad.html))."
      ]
    },
    {
      "cell_type": "code",
      "execution_count": null,
      "metadata": {
        "id": "CQr2Uz5ORjM5"
      },
      "outputs": [],
      "source": [
        "# A NamedTuple to store the state of the optimiser\n",
        "REINFORCELearnState = collections.namedtuple(\"LearnerState\", [\"optim_state\"])\n",
        "\n",
        "\n",
        "def REINFORCE_learn(key, params, learner_state, memory):\n",
        "\n",
        "  # Get the policy gradient by using `jax.grad()` on `batched_policy_gradient_loss`\n",
        "  grad_loss = jax.grad(batched_policy_gradient_loss)(params, memory.obs, memory.action, memory.reward_to_go)\n",
        "\n",
        "  # Get param updates using gradient and optimizer\n",
        "  updates, new_optim_state = REINFORCE_OPTIMIZER.update(grad_loss, learner_state.optim_state)\n",
        "\n",
        "  # Apply updates to params\n",
        "  params = optax.apply_updates(params, updates)\n",
        "\n",
        "  return params, REINFORCELearnState(new_optim_state) # update learner state"
      ]
    },
    {
      "cell_type": "markdown",
      "metadata": {
        "id": "5an3U2NhRKgG"
      },
      "source": [
        "### Цикл обучения REINFORCE\n",
        "Теперь мы можем обучить нашего агента REINFORCE, собрав все воедино с помощью цикла обучения."
      ]
    },
    {
      "cell_type": "code",
      "execution_count": null,
      "metadata": {
        "id": "vioIcVGsRjM5",
        "colab": {
          "base_uri": "https://localhost:8080/",
          "height": 680
        },
        "outputId": "32488f8e-3463-4e22-99b8-eea088632f13"
      },
      "outputs": [
        {
          "output_type": "stream",
          "name": "stdout",
          "text": [
            "Starting training. This may take up to 10 minutes to complete.\n",
            "Episode: 0\tEpisode Return: 12.0\tAverage Episode Return: 12.0\tEvaluator Episode Return: 18.25\n",
            "Episode: 100\tEpisode Return: 43.0\tAverage Episode Return: 47.0\tEvaluator Episode Return: 81.375\n",
            "Episode: 200\tEpisode Return: 200.0\tAverage Episode Return: 174.65\tEvaluator Episode Return: 192.625\n",
            "Episode: 300\tEpisode Return: 181.0\tAverage Episode Return: 181.25\tEvaluator Episode Return: 186.125\n",
            "Episode: 400\tEpisode Return: 200.0\tAverage Episode Return: 192.75\tEvaluator Episode Return: 185.75\n",
            "Episode: 500\tEpisode Return: 200.0\tAverage Episode Return: 198.55\tEvaluator Episode Return: 190.25\n",
            "Episode: 600\tEpisode Return: 200.0\tAverage Episode Return: 199.7\tEvaluator Episode Return: 200.0\n",
            "Episode: 700\tEpisode Return: 200.0\tAverage Episode Return: 183.75\tEvaluator Episode Return: 180.75\n",
            "Episode: 800\tEpisode Return: 200.0\tAverage Episode Return: 200.0\tEvaluator Episode Return: 200.0\n",
            "Episode: 900\tEpisode Return: 200.0\tAverage Episode Return: 200.0\tEvaluator Episode Return: 200.0\n",
            "Episode: 1000\tEpisode Return: 200.0\tAverage Episode Return: 200.0\tEvaluator Episode Return: 200.0\n"
          ]
        },
        {
          "output_type": "display_data",
          "data": {
            "text/plain": [
              "<Figure size 640x480 with 1 Axes>"
            ],
            "image/png": "[encoded data removed]"
          },
          "metadata": {}
        }
      ],
      "source": [
        "# JIT the choose_action and learn functions for more speed\n",
        "REINFORCE_learn_jit = jax.jit(REINFORCE_learn)\n",
        "REINFORCE_choose_action_jit = jax.jit(REINFORCE_choose_action)\n",
        "\n",
        "# Initial learn state\n",
        "REINFORCE_learn_state = REINFORCELearnState(REINFORCE_optim_state)\n",
        "\n",
        "# Run training loop\n",
        "print(\"Starting training. This may take up to 10 minutes to complete.\")\n",
        "episode_returns, evaluator_returns = run_training_loop(\n",
        "                                        env_name,\n",
        "                                        REINFORCE_params,\n",
        "                                        REINFORCE_choose_action_jit,\n",
        "                                        None, # action state not used\n",
        "                                        REINFORCE_learn_jit,\n",
        "                                        REINFORCE_learn_state,\n",
        "                                        REINFORCE_memory,\n",
        "                                        num_episodes=1001,\n",
        "                                        learn_steps_per_episode=2,\n",
        "                                        video_subdir=\"reinforce\"\n",
        "                                      )\n",
        "\n",
        "# Plot the episode returns\n",
        "plt.plot(episode_returns)\n",
        "plt.xlabel(\"Episode\")\n",
        "plt.ylabel(\"Episode Return\")\n",
        "plt.title(\"REINFORCE\")\n",
        "plt.show()\n"
      ]
    },
    {
      "cell_type": "code",
      "execution_count": null,
      "metadata": {
        "id": "caKL3ngNr_Yh",
        "colab": {
          "base_uri": "https://localhost:8080/",
          "height": 289
        },
        "outputId": "e4e0ed13-2417-4430-a801-7baba184a6ea"
      },
      "outputs": [
        {
          "output_type": "execute_result",
          "data": {
            "text/plain": [
              "<IPython.core.display.HTML object>"
            ],
            "text/html": [
              "\n",
              "<video width=400 controls>\n",
              "      <source src=\"data:video/mp4;base64,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\" type=\"video/mp4\">\n",
              "</video>\n"
            ]
          },
          "metadata": {},
          "execution_count": 53
        }
      ],
      "source": [
        "#@title Визуализация {display-mode: \"form\"}\n",
        "#@markdown Выберите номер эпизода, менее или равного 1000, и **run this cell**.\n",
        "\n",
        "episode_number = 1000 #@param {type:\"number\"}\n",
        "\n",
        "assert (episode_number % 100) == 0, \"Episode number must be a multiple of 100 since we only record every 100th episode.\"\n",
        "assert episode_number < 1001, \"Episode number must be less than or equal to 1000\"\n",
        "\n",
        "eval_episode_number = int(episode_number / 100 * 8)\n",
        "video_path = f\"./video/reinforce/eval/rl-video-episode-{eval_episode_number}.mp4\"\n",
        "\n",
        "mp4 = open(video_path,'rb').read()\n",
        "data_url = \"data:video/mp4;base64,\" + b64encode(mp4).decode()\n",
        "HTML(\"\"\"\n",
        "<video width=400 controls>\n",
        "      <source src=\"%s\" type=\"video/mp4\">\n",
        "</video>\n",
        "\"\"\" % data_url)"
      ]
    },
    {
      "cell_type": "markdown",
      "metadata": {
        "id": "D_HHzFTOc-Qr"
      },
      "source": [
        "## 4. Q-Learning\n",
        "Другим распространенным подходом к поиску оптимальной политики в среде с использованием RL является Q-обучение."
      ]
    },
    {
      "cell_type": "markdown",
      "metadata": {
        "id": "lF1nOZrUSzhE"
      },
      "source": [
        "### Функция значения состояния-действия\n",
        "В Q-обучении агент изучает функцию, которая аппроксимирует **значение** пар состояние-действие. Под *значением* мы подразумеваем отдачу, которую вы ожидаете получить, если начнете в определенном состоянии $s_t$, выполните определенное действие $a_t$, а затем будете действовать в соответствии с определенной политикой $\\pi$ навсегда. Функция значения состояния-действия политики $\\pi$ задается как\n",
        "\n",
        "$Q_\\pi(s,a)=\\mathrm{E}_{\\tau\\sim\\pi}\\left[R(\\tau) \\mid s_0=s,\\ a_t=a\\right]$.\n",
        "\n",
        "Мы говорим, что функция значения $Q_\\pi(s,a)$ является **оптимальной** функцией значения, если политика $\\pi$ является оптимальной политикой. Обозначим функцию оптимального значения следующим образом:\n",
        "\n",
        "$Q_\\ast(s,a)=\\max \\limits_\\pi \\ \\mathrm{E}_{\\tau\\sim\\pi}\\left[R(\\tau) \\mid s_0=s,\\ a_0=a\\right]$\n",
        "\n",
        "Существует важная связь между оптимальным действием $a_\\ast$ в состоянии $s$ и оптимальной функцией значения состояния-действия $Q_\\ast$. А именно, оптимальное действие $a_\\ast$ в состоянии $s$ равно действию, которое максимизирует оптимальную функцию значения состояния-действия. Эта связь естественным образом индуцирует оптимальную политику:\n",
        "\n",
        "$\\pi_\\ast(s)=\\arg \\max \\limits_a\\ Q_\\ast(s, a)$"
      ]
    },
    {
      "cell_type": "markdown",
      "metadata": {
        "id": "H2x2tqvZSihz"
      },
      "source": [
        "### Greedy action selection (Жадный выбор действия)\n",
        "\n",
        "**Упражнение 10:** Давайте реализуем функцию, которая, учитывая вектор Q-значений, возвращает действие с наибольшим Q-значением (т. е. жадное действие).\n",
        "\n",
        "**Useful methods:**\n",
        "*   `jax.numpy.argmax` ([docs](https://jax.readthedocs.io/en/latest/_autosummary/jax.numpy.argmax.html))"
      ]
    },
    {
      "cell_type": "code",
      "execution_count": null,
      "metadata": {
        "id": "Nn9P1YdzTIDU"
      },
      "outputs": [],
      "source": [
        "# Implement a function takes q-values as input and returns the greedy_action\n",
        "def select_greedy_action(q_values):\n",
        "\n",
        "  # YOUR CODE\n",
        "  action = jax.numpy.argmax(q_values)\n",
        "  # END YOUR CODE\n",
        "\n",
        "  return action"
      ]
    },
    {
      "cell_type": "code",
      "execution_count": null,
      "metadata": {
        "id": "ZBzLr_G7QKXR",
        "colab": {
          "base_uri": "https://localhost:8080/"
        },
        "outputId": "af530f25-ff9a-49ce-d722-88ab83381ad5"
      },
      "outputs": [
        {
          "output_type": "stream",
          "name": "stdout",
          "text": [
            "Looks good.\n"
          ]
        }
      ],
      "source": [
        "# @title Проверка упр 10 (run me) {display-mode: \"form\"}\n",
        "\n",
        "try:\n",
        "  q_values = jnp.array([1,1,3,4])\n",
        "  action = select_greedy_action(q_values)\n",
        "\n",
        "  if action != 3:\n",
        "    print(\"Incorrect answer, your greedy action selector looks wrong\")\n",
        "  else:\n",
        "    print(\"Looks good.\")\n",
        "except Exception as e:\n",
        "  print(\"An Error Occured: {}\".format(e))\n"
      ]
    },
    {
      "cell_type": "markdown",
      "metadata": {
        "id": "PFQUlqZ4ZyLp"
      },
      "source": [
        "### Q-Network\n",
        "В отличие от подхода с градиентом политики из предыдущего раздела, в Q-обучении и других методах RL на основе значений нам не нужна параметризация для политики, вместо этого мы параметризуем Q-функцию с помощью нейронной сети $Q_\\theta$. Мы получаем политику из Q-сети, всегда выбирая действие с *наибольшим* значением:\n",
        "\n",
        "$\\hat{\\pi}_\\theta(s)=\\arg \\max \\limits_a\\ Q_{\\theta}(s, a)$\n",
        "\n",
        "Как и ранее, мы будем использовать хайку для создания нейронной сети для аппроксимации этой Q-функции. Сеть будет принимать наблюдение в качестве входных данных, а затем выводить Q-значение для каждого из доступных действий. Таким образом, в случае CartPole выход сети будет иметь размер $2$."
      ]
    },
    {
      "cell_type": "code",
      "execution_count": null,
      "metadata": {
        "id": "9wU1soJYZyLp"
      },
      "outputs": [],
      "source": [
        "def build_network(num_actions: int, layers=[20, 20]) -> hk.Transformed:\n",
        "  \"\"\"Factory for a simple MLP network for approximating Q-values.\"\"\"\n",
        "\n",
        "  def q_network(obs):\n",
        "    network = hk.Sequential(\n",
        "        [hk.Flatten(),\n",
        "         hk.nets.MLP(layers + [num_actions])])\n",
        "    return network(obs)\n",
        "\n",
        "  return hk.without_apply_rng(hk.transform(q_network))"
      ]
    },
    {
      "cell_type": "markdown",
      "metadata": {
        "id": "sUwG-4qTS1zx"
      },
      "source": [
        "Давайте инициализируем нашу Q-сеть и получим начальные параметры."
      ]
    },
    {
      "cell_type": "code",
      "execution_count": null,
      "metadata": {
        "id": "1uvq5n2cS9lu",
        "colab": {
          "base_uri": "https://localhost:8080/"
        },
        "outputId": "b055f0b4-d4c0-4336-da20-9539b9544e60"
      },
      "outputs": [
        {
          "output_type": "stream",
          "name": "stdout",
          "text": [
            "Q-Learning params: dict_keys(['mlp/~/linear_0', 'mlp/~/linear_1', 'mlp/~/linear_2'])\n"
          ]
        }
      ],
      "source": [
        "# Initialise Q-network\n",
        "Q_NETWORK = build_network(num_actions=num_actions, layers=[20, 20]) # two actions\n",
        "\n",
        "dummy_obs = jnp.zeros((1,*obs_shape), jnp.float32) # a dummy observation like the one in CartPole\n",
        "\n",
        "random_key = jax.random.PRNGKey(42) # random key\n",
        "Q_NETWORK_PARAMS = Q_NETWORK.init(random_key, dummy_obs) # Get initial params\n",
        "\n",
        "print(\"Q-Learning params:\", Q_NETWORK_PARAMS.keys())"
      ]
    },
    {
      "cell_type": "markdown",
      "metadata": {
        "id": "iqCUeZfhEfyP"
      },
      "source": [
        "Прежде чем мы реализуем функцию потерь, необходимую для обучения нашей Q-сети, давайте сначала обсудим интуицию, стоящую за ней."
      ]
    },
    {
      "cell_type": "markdown",
      "metadata": {
        "id": "vbLig3uSZyLp"
      },
      "source": [
        "### The Bellman Equations (Уравнения Беллмана)\n",
        "Функция значения может быть записана рекурсивно как:\n",
        "\n",
        "$Q_{\\pi}(s, a) =\\underset{s^{\\prime} \\sim P}{\\mathrm{E}}\\left[r(s, a)+ \\underset{a^{\\prime} \\sim \\pi}{\\mathrm{E}}\\left[Q_{\\pi}\\left(s^{\\prime}, a^{\\prime}\\right)\\right]\\right]$,\n",
        "\n",
        "где $s' \\sim P$ — это сокращение для обозначения того, что следующее состояние $s'$ выбирается из функции перехода среды $P(s'\\mid s,a)$. Интуитивно это уравнение говорит, что ценность действия $a$, которое вы предприняли в состоянии $s$, равна вознаграждению $r$, которое вы ожидаете получить, плюс ценность, которую вы ожидаете получить в следующем состоянии $s`$, в котором вы окажетесь, при условии, что вы выберете свое следующее действие $a`$ с политикой $\\pi$. Уравнение Беллмана для оптимальной функции ценности выглядит так:\n",
        "\n",
        "$Q_{*}(s, a) =\\underset{s^{\\prime} \\sim P}{\\mathrm{E}}\\left[r(s, a)+\\ \\underset{a^{\\prime}}{\\max}\\ Q_{*}(s^{\\prime}, a^{\\prime})\\right]$\n",
        "\n",
        "Обратите внимание, что вместо выбора вашего следующего действия $a`$ с политикой $\\pi$ мы выбираем действие с наибольшим значением Q.\n",
        "\n",
        "Более подробное обсуждение уравнений Беллмана можно найти на сайте [OpenAI Spinning Up](https://spinningup.openai.com/en/latest/spinningup/rl_intro.html)."
      ]
    },
    {
      "cell_type": "markdown",
      "metadata": {
        "id": "DsOJi5G8ZyLp"
      },
      "source": [
        "### The Bellman Backup (Резервное копирование Беллмана)\n",
        "\n",
        "Чтобы научиться аппроксимировать оптимальную функцию Q-значения, мы можем использовать правую часть уравнения Беллмана в качестве правила обновления. Другими словами, предположим, что у нас есть Q-сеть $Q_\\theta$, аппроксимированная с использованием параметров $\\theta$, тогда мы можем итеративно обновлять параметры таким образом, что\n",
        "\n",
        "$Q_\\theta(s,a)\\leftarrow r(s, a) + \\underset{a'}{\\max}\\ Q_\\theta(s', a')$.\n",
        "\n",
        "Интуитивно это означает, что аппроксимация Q-значения действия $a$ в состоянии $s$ должна быть обновлена ​​таким образом, чтобы она была ближе к равной вознаграждению, полученному от среды $r(s, a)$, плюс значение наилучшего возможного действия в следующем состоянии $s'$. Мы можем выполнить эту оптимизацию, минимизируя разницу между левой и правой частью относительно параметров $\\theta$, используя градиентный спуск. Мы можем измерить разницу между двумя значениями, используя [квадратичную ошибку](https://en.wikipedia.org/wiki/Mean_squared_error#Loss_function).\n",
        "\n",
        "**Упражнение 11:** Реализуйте функцию квадратичной ошибки.\n",
        "\n",
        "**Полезные функции**\n",
        "* `jax.numpy.square` ([docs](https://jax.readthedocs.io/en/latest/_autosummary/jax.numpy.square.html))"
      ]
    },
    {
      "cell_type": "code",
      "execution_count": null,
      "metadata": {
        "id": "PTto__ohZyLp"
      },
      "outputs": [],
      "source": [
        "def compute_squared_error(pred, target):\n",
        "  # YOUR CODE\n",
        "  squared_error = jax.numpy.square(pred - target)\n",
        "  # END YOUR CODE\n",
        "\n",
        "  return squared_error"
      ]
    },
    {
      "cell_type": "code",
      "execution_count": null,
      "metadata": {
        "id": "wGhX8XTFVPVU",
        "colab": {
          "base_uri": "https://localhost:8080/"
        },
        "outputId": "37199e8e-8f51-4eb0-c75b-4a0c30464bd6"
      },
      "outputs": [
        {
          "output_type": "stream",
          "name": "stdout",
          "text": [
            "Looks good.\n"
          ]
        }
      ],
      "source": [
        "#@title Проверка упр 11 {display-mode: \"form\"}\n",
        "\n",
        "try:\n",
        "  result = compute_squared_error(1, 4)\n",
        "\n",
        "  if result != 9:\n",
        "    print(\"Your implementation looks wrong.\")\n",
        "  else:\n",
        "    print(\"Looks good.\")\n",
        "except Exception as e:\n",
        "  print(\"An Error Occured: {}\".format(e))"
      ]
    },
    {
      "cell_type": "markdown",
      "metadata": {
        "id": "ycpZVkgdZyLp"
      },
      "source": [
        "**Упражнение 12:** Реализуйте функцию, которая вычисляет **цель Беллмана** (правая часть уравнения Беллмана). Если эпизод находится на последнем временном шаге (т. е. done==1.0), то цель Беллмана должна быть равна награде, без дополнительного значения в конце.\n",
        "\n",
        "**Полезные функции**\n",
        "* `jax.numpy.max` ([docs](https://jax.readthedocs.io/en/latest/_autosummary/jax.numpy.max.html))"
      ]
    },
    {
      "cell_type": "code",
      "execution_count": null,
      "metadata": {
        "id": "961_OllWZyLp"
      },
      "outputs": [],
      "source": [
        "# Bellman target\n",
        "def compute_bellman_target(reward, done, next_q_values):\n",
        "  \"\"\"A function to compute the bellman target.\n",
        "\n",
        "  Args:\n",
        "      reward: a scalar reward.\n",
        "      done: a scalar of value either 1.0 or 0.0, indicating if the transition is a terminal one.\n",
        "      next_q_values: a vector of q_values for the next state. One for each action.\n",
        "  Returns:\n",
        "      A scalar equal to the bellman target.\n",
        "\n",
        "  \"\"\"\n",
        "  # YOUR CODE\n",
        "  bellman_target = reward + (1.0 - done) * jax.numpy.max(next_q_values)\n",
        "  # END YOUR CODE\n",
        "\n",
        "  return bellman_target"
      ]
    },
    {
      "cell_type": "code",
      "execution_count": null,
      "metadata": {
        "id": "E5RAhegOWAkC",
        "colab": {
          "base_uri": "https://localhost:8080/"
        },
        "outputId": "24664c51-676e-4217-c559-26dd935b37d1"
      },
      "outputs": [
        {
          "output_type": "stream",
          "name": "stdout",
          "text": [
            "Looks good.\n"
          ]
        }
      ],
      "source": [
        "#@title Проверка упр 12 {display-mode: \"form\"}\n",
        "\n",
        "try:\n",
        "  # not done\n",
        "  result1 = compute_bellman_target(1, 0.0, np.array([3,2], \"float32\"))\n",
        "\n",
        "  # done\n",
        "  result2 = compute_bellman_target(1, 1.0, np.array([3,2], \"float32\"))\n",
        "\n",
        "  if result1 != 4 or result2 != 1:\n",
        "    print(\"Your implementation looks wrong.\")\n",
        "  else:\n",
        "    print(\"Looks good.\")\n",
        "except Exception as e:\n",
        "  print(\"An Error Occured: {}\".format(e))"
      ]
    },
    {
      "cell_type": "markdown",
      "metadata": {
        "id": "8sIjrHSJZyLq"
      },
      "source": [
        "Теперь мы можем объединить эти две функции, чтобы вычислить потерю для Q-обучения. Потери Q-обучения равны квадрату разницы между прогнозируемым значением Q действия и его соответствующей целью Беллмана.\n",
        "\n",
        "**Упражнение 13:** Реализуйте функцию потери Q-обучения."
      ]
    },
    {
      "cell_type": "code",
      "execution_count": null,
      "metadata": {
        "id": "LJY_kpFcZyLq"
      },
      "outputs": [],
      "source": [
        "def q_learning_loss(q_values, action, reward, done, next_q_values):\n",
        "    \"\"\"Implementation of the Q-learning loss.T\n",
        "\n",
        "    Args:\n",
        "        q_values: a vector of Q-values, one for each action.\n",
        "        action: an integer, giving the action that was chosen. q_values[action] is the value of the chose action.\n",
        "        done: is a scalar that indicates if this is a terminal transition.\n",
        "        next_q_values: a vector of Q-values in the next state.\n",
        "    Returns:\n",
        "        The squared difference between the q_value of the chosen action and the bellman target.\n",
        "    \"\"\"\n",
        "    # YOUR CODE\n",
        "    chosen_action_q_value = q_values[action] # q_value of action, use array indexing\n",
        "    bellman_target = reward + (1.0 - done) * jax.numpy.max(next_q_values)\n",
        "    squared_error = jax.numpy.square(chosen_action_q_value - bellman_target)\n",
        "    # END YOUR CODE\n",
        "\n",
        "    return squared_error"
      ]
    },
    {
      "cell_type": "code",
      "execution_count": null,
      "metadata": {
        "id": "1aZRn1qaWx2M",
        "colab": {
          "base_uri": "https://localhost:8080/"
        },
        "outputId": "181e76d9-7e57-457d-aa9e-7da1a8e38a7d"
      },
      "outputs": [
        {
          "output_type": "stream",
          "name": "stdout",
          "text": [
            "Looks good.\n"
          ]
        }
      ],
      "source": [
        "#@title Проверка упр 13 {display-mode: \"form\"}\n",
        "\n",
        "try:\n",
        "  result = q_learning_loss(np.array([3,2], \"float32\"), 1, 2, 0.0, np.array([3,2], \"float32\"))\n",
        "\n",
        "  if result != 9.0:\n",
        "    print(\"Your implementation looks wrong.\")\n",
        "  else:\n",
        "    print(\"Looks good.\")\n",
        "except Exception as e:\n",
        "  print(\"An Error Occured: {}\".format(e))"
      ]
    },
    {
      "cell_type": "markdown",
      "metadata": {
        "id": "b4YnSUfJZyLq"
      },
      "source": [
        "### Target Q-network (Целевая Q-сеть)\n",
        "Обратите внимание: когда мы вычисляем цель Беллмана, мы используем нашу Q-сеть $Q_\\theta$ для вычисления значения для следующего состояния $s_t$. По сути, мы используем наше последнее приближение Q-функции для вычисления цели нашего следующего приближения. Использование приближения для вычисления цели для вашего следующего приближения называется самозагрузкой. К сожалению, если мы наивно делаем такую ​​самозагрузку, это может сделать обучение нейронной сети очень нестабильным. Чтобы смягчить это, мы можем вместо этого использовать другой набор параметров $\\hat{\\theta}$ для вычисления значений в состоянии $s_{t+1}$. Мы будем сохранять параметры $\\hat{\\theta}$ фиксированными и только периодически обновлять их, чтобы они были равны последним онлайн-параметрам $\\theta$ каждые пару шагов обучения *(скажем, 100)*. Это позволяет сохранять фиксированные цели Беллмана для пары шагов обучения, чтобы помочь снизить нестабильность из-за самозагрузки.\n",
        "\n",
        "Нам нужно будет отслеживать последние (онлайн) параметры, а также параметры целевых сетей. Давайте создадим `NamedTuple` для хранения этих двух значений. Нам также нужно будет отслеживать количество шагов обучения, которые мы сделали, чтобы знать, когда обновлять целевую сеть. Давайте сохраним `count` шагов обучения в `learn_state`."
      ]
    },
    {
      "cell_type": "code",
      "execution_count": null,
      "metadata": {
        "id": "DvZqUKmq6L7k"
      },
      "outputs": [],
      "source": [
        "# Store online and target parameters\n",
        "QLearnParams = collections.namedtuple(\"Params\", [\"online\", \"target\"])\n",
        "\n",
        "# Q-learn-state\n",
        "QLearnState = collections.namedtuple(\"LearnerState\", [\"count\", \"optim_state\"])"
      ]
    },
    {
      "cell_type": "markdown",
      "metadata": {
        "id": "CJWH2_kNZsau"
      },
      "source": [
        "Мы снова будем использовать Optax для оптимизации нашей нейронной сети в JAX. Мы сохраняем состояние оптимизатора в `learn_state` выше. Давайте теперь создадим экземпляр оптимизатора и добавим начальные параметры Q-сети в объект `QLearnParams`."
      ]
    },
    {
      "cell_type": "code",
      "execution_count": null,
      "metadata": {
        "id": "HwqKTN6BaAXE"
      },
      "outputs": [],
      "source": [
        "# Initialise Q-network optimizer\n",
        "Q_LEARN_OPTIMIZER = optax.adam(3e-4) # learning rate\n",
        "\n",
        "Q_LEARN_OPTIM_STATE = Q_LEARN_OPTIMIZER.init(Q_NETWORK_PARAMS) # initial optim state\n",
        "\n",
        "# Create Learn State\n",
        "Q_LEARNING_LEARN_STATE = QLearnState(0, Q_LEARN_OPTIM_STATE) # count set to zero initially\n",
        "\n",
        "# Add initial Q-network weights to QLearnParams object\n",
        "Q_LEARNING_PARAMS = QLearnParams(online=Q_NETWORK_PARAMS, target=Q_NETWORK_PARAMS) # target equal to online"
      ]
    },
    {
      "cell_type": "markdown",
      "metadata": {
        "id": "xj89M8LgZlFe"
      },
      "source": [
        "Теперь мы можем реализовать простую функцию, которая обновляет параметры целевых сетей, чтобы они соответствовали последним онлайн-параметрам каждые 100 шагов обучения."
      ]
    },
    {
      "cell_type": "code",
      "execution_count": null,
      "metadata": {
        "id": "SKrg_3rO6cCL"
      },
      "outputs": [],
      "source": [
        "def update_target_params(learn_state, online_weights, target_weights):\n",
        "  \"\"\"A function to update target params every 100 training steps\"\"\"\n",
        "\n",
        "  target = jax.lax.cond(\n",
        "      jax.numpy.mod(learn_state.count, 100) == 0,\n",
        "      lambda x, y: x,\n",
        "      lambda x, y: y,\n",
        "      online_weights,\n",
        "      target_weights\n",
        "  )\n",
        "\n",
        "  params = QLearnParams(online_weights, target)\n",
        "\n",
        "  return params"
      ]
    },
    {
      "cell_type": "markdown",
      "metadata": {
        "id": "KoiaYSo9ZyLq"
      },
      "source": [
        "### Q-learning loss (Функция потери Q-обучения)\n",
        "Теперь у нас есть все необходимое для реализации функции `q_learn`, которая принимает некоторую партию переходов и выполняет шаг Q-обучения для обновления параметров сети. Но сначала мы используем `jax.vmap` для изменения функции `q_learning_loss` так, чтобы она принимала партии переходов. Кроме того, мы вычислим Q-значения, передавая наблюдения через `Q_NETWORK`, и целевые Q-значения, используя целевые параметры `Q_NETWORK`."
      ]
    },
    {
      "cell_type": "code",
      "execution_count": null,
      "metadata": {
        "id": "hnrsGppWZyLq"
      },
      "outputs": [],
      "source": [
        "def batched_q_learning_loss(online_params, target_params, obs, actions, rewards, next_obs, dones):\n",
        "    q_values = Q_NETWORK.apply(online_params, obs) # use the online parameters\n",
        "    next_q_values = Q_NETWORK.apply(target_params, next_obs) # use the target parameters\n",
        "    squared_error = jax.vmap(q_learning_loss)(q_values, actions, rewards, dones, next_q_values) # vmap q_learning_loss\n",
        "    mean_squared_error = jnp.mean(squared_error) # mean squared error over batch\n",
        "    return mean_squared_error"
      ]
    },
    {
      "cell_type": "markdown",
      "metadata": {
        "id": "CU8vo9ZebnEa"
      },
      "source": [
        "Теперь мы можем создать функцию `q_learn`, которая вычисляет градиент `batched_q_learning_loss`, а затем использует оптимизатор Optax для обновления весов сети, а затем, наконец (возможно), обновляет целевые параметры."
      ]
    },
    {
      "cell_type": "code",
      "execution_count": null,
      "metadata": {
        "id": "6BYoX2W_ZyLr"
      },
      "outputs": [],
      "source": [
        "def q_learn(rng, params, learner_state, memory):\n",
        "  # Compute gradients\n",
        "  grad_loss = jax.grad(batched_q_learning_loss)(params.online, params.target, memory.obs,\n",
        "                                          memory.action, memory.reward,\n",
        "                                          memory.next_obs, memory.done,\n",
        "                                          ) # jax.grad\n",
        "\n",
        "  # Get updates\n",
        "  updates, opt_state = Q_LEARN_OPTIMIZER.update(grad_loss, learner_state.optim_state)\n",
        "\n",
        "  # Apply them\n",
        "  new_weights = optax.apply_updates(params.online, updates)\n",
        "\n",
        "  # Maybe update target network\n",
        "  params = update_target_params(learner_state, new_weights, params.target)\n",
        "\n",
        "  # Increment learner step counter\n",
        "  learner_state = QLearnState(learner_state.count + 1, opt_state)\n",
        "\n",
        "  return params, learner_state"
      ]
    },
    {
      "cell_type": "markdown",
      "metadata": {
        "id": "VpZsKHssZyLq"
      },
      "source": [
        "### Replay Buffer (Буфер воспроизведения)\n",
        "Для Q-обучения нам понадобится память агента, которая хранит целые переходы: `obs`, `action`, `reward`, `next_obs`, `done`. Когда мы извлекаем переходы из памяти, они должны выбираться случайным образом из всех переходов, собранных до сих пор. В RL мы часто называем такой модуль **буфером воспроизведения**.\n",
        "\n",
        "Одним из преимуществ использования такого буфера воспроизведения является то, что опыт можно повторно использовать несколько раз для обучения, в отличие от алгоритма градиента политики REINFORCE, где мы отбрасывали воспоминания после их использования для обучения."
      ]
    },
    {
      "cell_type": "code",
      "execution_count": null,
      "metadata": {
        "id": "8tv5dUH6ZyLr"
      },
      "outputs": [],
      "source": [
        "class TransitionMemory(object):\n",
        "  \"\"\"A simple Python replay buffer.\"\"\"\n",
        "\n",
        "  def __init__(self, max_size=10_000, batch_size=256):\n",
        "    self.batch_size = batch_size\n",
        "    self.buffer = collections.deque(maxlen=max_size)\n",
        "\n",
        "  def push(self, transition):\n",
        "\n",
        "    # add transition to the replay buffer\n",
        "    self.buffer.append(\n",
        "        (transition.obs, transition.action, transition.reward,\n",
        "          transition.next_obs, transition.done)\n",
        "    )\n",
        "\n",
        "\n",
        "  def is_ready(self):\n",
        "    return self.batch_size <= len(self.buffer)\n",
        "\n",
        "  def sample(self):\n",
        "    # Randomly sample a batch of transitions from the buffer\n",
        "    random_replay_sample = random.sample(self.buffer, self.batch_size)\n",
        "\n",
        "    # Batch the transitions together\n",
        "    obs_batch, action_batch, reward_batch, next_obs_batch, done_batch = zip(*random_replay_sample)\n",
        "\n",
        "    return Transition(\n",
        "        np.stack(obs_batch).astype(\"float32\"),\n",
        "        np.asarray(action_batch).astype(\"int32\"),\n",
        "        np.asarray(reward_batch).astype(\"float32\"),\n",
        "        np.stack(next_obs_batch).astype(\"float32\"),\n",
        "        np.asarray(done_batch).astype(\"float32\")\n",
        "    )\n",
        "\n",
        "# Instantiate the memory\n",
        "Q_LEARNING_MEMORY = TransitionMemory(max_size=50_000, batch_size=256)"
      ]
    },
    {
      "cell_type": "markdown",
      "metadata": {
        "id": "XbHk03VVUHAV"
      },
      "source": [
        "### Случайное исследование\n",
        "У нас почти есть все, что нужно для функционирующего агента Q-обучения. Но одна проблема заключается в том, что если мы всегда выбираем действие с наивысшим значением Q, то политика агента будет полностью [детерминированной](https://www.quora.com/What-is-the-intuitive-difference-between-a-stochastic-model-and-a-deterministic-model). Это означает, что агент всегда будет выбирать одну и ту же стратегию. Это может представлять проблему, поскольку в начале обучения Q-сеть будет очень неточной (т. е. плохой аппроксимацией истинной Q-функции). Таким образом, агент будет последовательно выбирать неоптимальные действия. Более того, агент никогда не отклонится от своей неоптимальной стратегии и никогда не обнаружит новые, потенциально более полезные действия. В результате Q-сеть остается неточной. В идеале агент должен опробовать много разных стратегий, чтобы он мог наблюдать результаты (вознаграждения) своих действий в разных состояниях и таким образом улучшить приближение Q-функции.\n",
        "\n",
        "Один простой способ гарантировать, что агент опробует много разных действий, — позволить ему периодически выбирать некоторые случайные действия вместо жадного (лучшего) действия все время.\n",
        "\n",
        "**Упражнение 14:** Реализуйте функцию, которая, учитывая количество возможных (дискретных) действий, возвращает случайное действие.\n",
        "\n",
        "**Полезные методы:**\n",
        "\n",
        "*  `jax.random.randint` ([docs](https://jax.readthedocs.io/en/latest/_autosummary/jax.random.randint.html))"
      ]
    },
    {
      "cell_type": "code",
      "execution_count": null,
      "metadata": {
        "id": "uUKkpMLXUtko"
      },
      "outputs": [],
      "source": [
        "def select_random_action(key, num_actions):\n",
        "\n",
        "    # YOUR CODE\n",
        "    action = jax.random.randint(key, shape=(), minval=0, maxval=num_actions)\n",
        "    # END YOUR CODE\n",
        "\n",
        "    return action"
      ]
    },
    {
      "cell_type": "code",
      "execution_count": null,
      "metadata": {
        "id": "NO6va6S2Y40E",
        "colab": {
          "base_uri": "https://localhost:8080/"
        },
        "outputId": "0e0c691b-e390-4116-8573-6c5d098bbd77"
      },
      "outputs": [
        {
          "output_type": "stream",
          "name": "stdout",
          "text": [
            "Looks good.\n"
          ]
        }
      ],
      "source": [
        "#@title Проверка упр 14 {display-mode: \"form\"}\n",
        "\n",
        "try:\n",
        "  random_key1 = random_key = jax.random.PRNGKey(6) # random key\n",
        "  random_key2 = random_key = jax.random.PRNGKey(1000) # random key\n",
        "  result1 = select_random_action(random_key1, 2)\n",
        "  result2 = select_random_action(random_key2, 2)\n",
        "\n",
        "  if result1 != 1 or result2 != 0:\n",
        "    print(\"Your implementation looks wrong.\")\n",
        "  else:\n",
        "    print(\"Looks good.\")\n",
        "except:\n",
        "  print(\"Your implementation looks wrong.\")"
      ]
    },
    {
      "cell_type": "markdown",
      "metadata": {
        "id": "8-kKDFT6XU6y"
      },
      "source": [
        "### $\\varepsilon$-greedy action selection (эпсилон жадный выбор действия)\n",
        "В начале обучения, когда точность Q-сети низкая, агенту стоит в основном совершать случайные действия, чтобы он мог узнать, насколько хороши/плохи действия. Однако по мере повышения точности Q-сети агент должен начать совершать меньше случайных действий и вместо этого начать выбирать жадные действия относительно Q-значений. Выбор лучших действий с учетом текущей Q-сети называется **эксплуатацией**. В RL мы часто называем отношение случайных и жадных действий **эпсилоном** $\\varepsilon$. Эпсилон обычно представляет собой десятичное значение в интервале $[0,1]$, где, например, $\\varepsilon=0.4$ означает, что агент выбирает случайное действие в 40% случаев, а жадное действие — в 60% случаев. В RL принято линейно уменьшать значение эпсилон с течением времени, так что агент становится все более жадным по мере повышения точности его Q-сети в процессе обучения.\n",
        "\n",
        "**Упражнение 15:** Реализуйте функцию, которая принимает количество временных шагов в качестве входных данных и возвращает текущее значение эпсилон."
      ]
    },
    {
      "cell_type": "code",
      "execution_count": null,
      "metadata": {
        "id": "_qejnbCocurG"
      },
      "outputs": [],
      "source": [
        "EPSILON_DECAY_TIMESTEPS = 3000 # decay epsilon over 3000 timesteps\n",
        "EPSILON_MIN = 0.1 # 10% exploration"
      ]
    },
    {
      "cell_type": "code",
      "execution_count": null,
      "metadata": {
        "id": "5ujSbssCZyLs"
      },
      "outputs": [],
      "source": [
        "def get_epsilon(num_timesteps):\n",
        "  # YOUR CODE\n",
        "\n",
        "  epsilon = jax.numpy.maximum(EPSILON_MIN, 1.0 - (num_timesteps / EPSILON_DECAY_TIMESTEPS))\n",
        "  # END YOUR CODE\n",
        "\n",
        "  return epsilon"
      ]
    },
    {
      "cell_type": "code",
      "execution_count": null,
      "metadata": {
        "id": "hvu4zA64aUou",
        "colab": {
          "base_uri": "https://localhost:8080/"
        },
        "outputId": "527766bf-01b3-4f17-ecb2-93ee7324415b"
      },
      "outputs": [
        {
          "output_type": "stream",
          "name": "stdout",
          "text": [
            "Your function looks correct.\n"
          ]
        }
      ],
      "source": [
        "#@title Проверка упр 15 {display-mode: \"form\"}\n",
        "def check_get_epsilon(get_epsilon):\n",
        "  try:\n",
        "    result1 = get_epsilon(10)\n",
        "    result2 = get_epsilon(5_010)\n",
        "\n",
        "    if result1 != 0.99666667 or result2 != 0.1:\n",
        "      print(\"Your function looks wrong.\")\n",
        "    else:\n",
        "      print(\"Your function looks correct.\")\n",
        "  except:\n",
        "    print(\"Your function looks wrong.\")\n",
        "\n",
        "check_get_epsilon(get_epsilon)\n"
      ]
    },
    {
      "cell_type": "markdown",
      "metadata": {
        "id": "t56oo58TVQ_s"
      },
      "source": [
        "**Упражнение 16:** Теперь давайте объединим эти функции для выполнения эпсилон-жадного выбора действия."
      ]
    },
    {
      "cell_type": "code",
      "execution_count": null,
      "metadata": {
        "id": "NlQx8K4vKUXj"
      },
      "outputs": [],
      "source": [
        "def select_epsilon_greedy_action(key, q_values, num_timesteps):\n",
        "    num_actions = len(q_values) # number of available actions\n",
        "\n",
        "    # YOUR CODE HERE\n",
        "    epsilon = jax.numpy.maximum(EPSILON_MIN, 1.0 - (num_timesteps / EPSILON_DECAY_TIMESTEPS)) # get epsilon value\n",
        "\n",
        "    should_explore = jax.random.uniform(key) < epsilon # hint: a boolean expression to check if some random number is less than epsilon\n",
        "\n",
        "    action = jax.lax.select(\n",
        "        should_explore,\n",
        "        jax.random.randint(key, shape=(), minval=0, maxval=num_actions),  # случайное действие\n",
        "        jax.numpy.argmax(q_values)  # жадное действие\n",
        "    )\n",
        "    # END YOUR CODE\n",
        "\n",
        "    return action"
      ]
    },
    {
      "cell_type": "code",
      "execution_count": null,
      "metadata": {
        "id": "mkVU2a5e7P6b",
        "colab": {
          "base_uri": "https://localhost:8080/"
        },
        "outputId": "beda7f88-d8d6-4735-f58f-461db604ebb0"
      },
      "outputs": [
        {
          "output_type": "stream",
          "name": "stdout",
          "text": [
            "Looks correct!\n"
          ]
        }
      ],
      "source": [
        "#@title Проверка упражнения 16 {display-mode: \"form\"}\n",
        "\n",
        "try:\n",
        "  rng = hk.PRNGSequence(jax.random.PRNGKey(42))\n",
        "  dummy_q_values = jnp.array([0,1], jnp.float32)\n",
        "  num_timesteps = 5010 # very greedy\n",
        "  actions1 = []\n",
        "  for i in range(10):\n",
        "      actions1.append(int(select_epsilon_greedy_action(next(rng), dummy_q_values, num_timesteps)))\n",
        "\n",
        "  num_timesteps = 0 # completly random\n",
        "  actions2 = []\n",
        "  for i in range(10):\n",
        "      actions2.append(int(select_epsilon_greedy_action(next(rng), dummy_q_values, num_timesteps)))\n",
        "\n",
        "  if actions1 != [1, 1, 0, 1, 1, 0, 1, 1, 1, 1] or actions2 != [0, 0, 0, 1, 1, 1, 1, 0, 0, 0]:\n",
        "    print(\"Looks like something might be incorrect!\")\n",
        "  else:\n",
        "    print(\"Looks correct!\")\n",
        "except:\n",
        "  print(\"Looks like something might be incorrect!\")"
      ]
    },
    {
      "cell_type": "markdown",
      "metadata": {
        "id": "y5W23MnobN9x"
      },
      "source": [
        "### Действие выбора Q-learning\n",
        "\n",
        "Теперь у нас есть все необходимое для создания функции `q_learning_select_action`. Мы будем использовать `actor_state` для хранения счетчика, который отслеживает текущее количество временных шагов. Мы можем использовать счетчик для уменьшения нашего значения `epsilon`."
      ]
    },
    {
      "cell_type": "code",
      "execution_count": null,
      "metadata": {
        "id": "81TysLc0RjM6"
      },
      "outputs": [],
      "source": [
        "# Actor state stores the current number of timesteps\n",
        "QActorState = collections.namedtuple(\"ActorState\", [\"count\"])\n",
        "\n",
        "def q_learning_select_action(key, params, actor_state, obs, evaluation=False):\n",
        "    obs = jnp.expand_dims(obs, axis=0) # add dummy batch dim\n",
        "    q_values = Q_NETWORK.apply(params.online, obs)[0] # remove batch dim\n",
        "\n",
        "    action = select_epsilon_greedy_action(key, q_values, actor_state.count)\n",
        "    greedy_action = select_greedy_action(q_values)\n",
        "\n",
        "    action = jax.lax.select(\n",
        "        evaluation,\n",
        "        greedy_action,\n",
        "        action\n",
        "    )\n",
        "\n",
        "    next_actor_state = QActorState(actor_state.count + 1) # increment timestep counter\n",
        "\n",
        "    return action, next_actor_state\n",
        "\n",
        "Q_LEARNING_ACTOR_STATE = QActorState(0) # counter set to zero"
      ]
    },
    {
      "cell_type": "markdown",
      "metadata": {
        "id": "z884-1oNRGEr"
      },
      "source": [
        "### Обучение\n",
        "Теперь мы можем собрать все вместе, используя цикл агент-среда. Но сначала давайте объединим функцию выбора действия и функцию обучения для дополнительной скорости."
      ]
    },
    {
      "cell_type": "code",
      "execution_count": null,
      "metadata": {
        "id": "xbdHDbd1RjM8",
        "colab": {
          "base_uri": "https://localhost:8080/",
          "height": 680
        },
        "outputId": "38c589ce-e0d9-4ad9-daa1-58b5eb7dbb6f"
      },
      "outputs": [
        {
          "output_type": "stream",
          "name": "stdout",
          "text": [
            "Starting training. This may take up to 8 minutes to complete.\n",
            "Episode: 0\tEpisode Return: 16.0\tAverage Episode Return: 16.0\tEvaluator Episode Return: 9.125\n",
            "Episode: 100\tEpisode Return: 23.0\tAverage Episode Return: 13.45\tEvaluator Episode Return: 9.25\n",
            "Episode: 200\tEpisode Return: 10.0\tAverage Episode Return: 9.85\tEvaluator Episode Return: 9.0\n",
            "Episode: 300\tEpisode Return: 10.0\tAverage Episode Return: 9.75\tEvaluator Episode Return: 9.25\n",
            "Episode: 400\tEpisode Return: 20.0\tAverage Episode Return: 11.85\tEvaluator Episode Return: 26.375\n",
            "Episode: 500\tEpisode Return: 60.0\tAverage Episode Return: 91.4\tEvaluator Episode Return: 72.875\n",
            "Episode: 600\tEpisode Return: 109.0\tAverage Episode Return: 146.35\tEvaluator Episode Return: 172.125\n",
            "Episode: 700\tEpisode Return: 187.0\tAverage Episode Return: 153.2\tEvaluator Episode Return: 188.5\n",
            "Episode: 800\tEpisode Return: 176.0\tAverage Episode Return: 172.35\tEvaluator Episode Return: 151.125\n",
            "Episode: 900\tEpisode Return: 200.0\tAverage Episode Return: 200.0\tEvaluator Episode Return: 200.0\n",
            "Episode: 1000\tEpisode Return: 13.0\tAverage Episode Return: 12.35\tEvaluator Episode Return: 36.625\n"
          ]
        },
        {
          "output_type": "display_data",
          "data": {
            "text/plain": [
              "<Figure size 640x480 with 1 Axes>"
            ],
            "image/png": "[encoded data removed]"
          },
          "metadata": {}
        }
      ],
      "source": [
        "# Jit functions\n",
        "q_learning_select_action_jit = jax.jit(q_learning_select_action)\n",
        "q_learn_jit = jax.jit(q_learn)\n",
        "\n",
        "# Run environment loop\n",
        "print(\"Starting training. This may take up to 8 minutes to complete.\")\n",
        "episode_returns, evaluator_returns = run_training_loop(\n",
        "                                        env_name,\n",
        "                                        Q_LEARNING_PARAMS,\n",
        "                                        q_learning_select_action_jit,\n",
        "                                        Q_LEARNING_ACTOR_STATE,\n",
        "                                        q_learn_jit,\n",
        "                                        Q_LEARNING_LEARN_STATE,\n",
        "                                        Q_LEARNING_MEMORY,\n",
        "                                        num_episodes=1001,\n",
        "                                        train_every_timestep=True, # do learning after every timestep\n",
        "                                        video_subdir=\"q_learning\"\n",
        "                                    )\n",
        "\n",
        "plt.plot(episode_returns)\n",
        "plt.xlabel(\"Episodes\")\n",
        "plt.ylabel(\"Episode Return\")\n",
        "plt.title(\"Deep Q-Learning\")\n",
        "plt.show()"
      ]
    },
    {
      "cell_type": "markdown",
      "metadata": {
        "id": "2k0-41wbpFDE"
      },
      "source": [
        "На этом этапе, как мы надеемся, приближенная Q-функция сошлась к приемлемой политике балансировки шеста в задаче CartPole."
      ]
    },
    {
      "cell_type": "code",
      "execution_count": null,
      "metadata": {
        "id": "t4v0ZbB4FQUs",
        "colab": {
          "base_uri": "https://localhost:8080/",
          "height": 289
        },
        "outputId": "00204d7b-ae77-4483-c8f2-39d3b5b89518"
      },
      "outputs": [
        {
          "output_type": "execute_result",
          "data": {
            "text/plain": [
              "<IPython.core.display.HTML object>"
            ],
            "text/html": [
              "\n",
              "<video width=400 controls>\n",
              "      <source src=\"data:video/mp4;base64,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\" type=\"video/mp4\">\n",
              "</video>\n"
            ]
          },
          "metadata": {},
          "execution_count": 97
        }
      ],
      "source": [
        "#@title Визуализация политики\n",
        "#@markdown Выберите номер эпизода, кратный 100 и меньший или равный 1000, и **запустите эту ячейку**.\n",
        "episode_number = 600 #@param {type:\"number\"}\n",
        "\n",
        "assert (episode_number % 100) == 0, \"Episode number must be a multiple of 100 since we only record every 100th episode.\"\n",
        "assert episode_number < 1001, \"Episode number must be less than or equal to 1000\"\n",
        "\n",
        "\n",
        "eval_episode_number = int(episode_number / 100 * 8)\n",
        "video_path = f\"./video/q_learning/eval/rl-video-episode-{eval_episode_number}.mp4\"\n",
        "\n",
        "mp4 = open(video_path,'rb').read()\n",
        "data_url = \"data:video/mp4;base64,\" + b64encode(mp4).decode()\n",
        "HTML(\"\"\"\n",
        "<video width=400 controls>\n",
        "      <source src=\"%s\" type=\"video/mp4\">\n",
        "</video>\n",
        "\"\"\" % data_url)"
      ]
    },
    {
      "cell_type": "markdown",
      "metadata": {
        "id": "fV3YG7QOZD-B"
      },
      "source": [
        "Кроме того, существует множество алгоритмов RL, которые вносят существенные улучшения в REINFORCE и Deep Q-Learning. См. эти ресурсы:\n",
        "* [REINFORCE с базовым уровнем](https://spinningup.openai.com/en/latest/spinningup/rl_intro3.html#baselines-in-policy-gradients)\n",
        "* [Double Deep Q-Network](https://arxiv.org/pdf/1509.06461.pdf)\n",
        "* [Proximal Policy Optimisation (PPO)](https://arxiv.org/pdf/1707.06347.pdf)\n",
        "\n",
        "Если вы ищете более углубленный онлайн-курс по RL, вы можете ознакомиться с этими курсами:\n",
        "* [Reinforcement Learning Foundations on LinkedIn Learning](https://www.linkedin.com/learning/reinforcement-learning-foundations) (создано одним из наших собственных преподавателей, Хаулатом Абдулхакимом)\n",
        "* [Введение в Reinforcement Learning on FreeCodeCamp](https://www.freecodecamp.org/news/an-introduction-to-reinforcement-learning-4339519de419/)\n",
        "* [Специализация обучения с подкреплением на Coursera](https://www.coursera.org/specializations/reinforcement-learning)\n",
        "\n",
        "Наконец, самый влиятельный учебник по обучению с подкреплением доступен бесплатно онлайн:\n",
        "* [Обучение с подкреплением: введение](http://incompleteideas.net/book/the-book-2nd.html) Ричарда С. Саттона и Эндрю Г. Барто\n",
        "\n",
        "\n",
        "**Ссылки:**\n",
        "\n",
        "* [OpenAI Spinning Up](https://spinningup.openai.com/en/latest/)\n",
        "* [Deep Q-Network]()"
      ]
    },
    {
      "cell_type": "code",
      "source": [],
      "metadata": {
        "id": "6V47Vd_i3qk7"
      },
      "execution_count": null,
      "outputs": []
    }
  ],
  "metadata": {
    "colab": {
      "provenance": [],
      "gpuType": "T4"
    },
    "kernelspec": {
      "display_name": "Python 3",
      "name": "python3"
    },
    "language_info": {
      "codemirror_mode": {
        "name": "ipython",
        "version": 3
      },
      "file_extension": ".py",
      "mimetype": "text/x-python",
      "name": "python",
      "nbconvert_exporter": "python",
      "pygments_lexer": "ipython3",
      "version": "3.8.13"
    },
    "vscode": {
      "interpreter": {
        "hash": "0f35138c66f99be0fd7a1210bb4aa94a6fbaa5f29d51ad43aec0e0ea0ff050f0"
      }
    }
  },
  "nbformat": 4,
  "nbformat_minor": 0
}